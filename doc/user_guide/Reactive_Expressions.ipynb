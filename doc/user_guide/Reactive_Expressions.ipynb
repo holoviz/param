{
 "cells": [
  {
   "cell_type": "markdown",
   "id": "3ecf9ffc-96a0-4457-bc89-43cac0099e01",
   "metadata": {},
   "source": [
    "## Reactive Functions & Expressions\n",
    "\n",
    "In the [Dependencies and Watchers](Dependencies_and_Watchers.ipynb) guide we discovered how to express dependencies and write callback functions that are invoked when parameter values change. This low-level, imperative style of expressing dynamic behavior is powerful, and works well for capturing complex behaviors in self-contained Parameterized classes with methods and Parameters. But even if you are not primarily designing a hierarchy of classes, it is still useful to be able to express dependencies between values and computations. Param 2.0 introduces a new set of declarative dynamic computation primitives that are useful even for single expressions, letting you write simple reactive functions and expressions that are re-evaluated automatically when required.\n",
    "\n",
    "The reactive programming model is one you might be familiar with from spreadsheets like Excel, where formulas can reference cells or ranges and dynamically (or more precisely, _reactively_) recompute when the inputs to a formula changes. In Param, Parameter objects correspond to a spreadsheet cell formula's inputs or references, and reactive expressions correspond to the formula itself. `param.bind` also allows the creation of a reactive function with arbitrary inputs.\n",
    "\n",
    "This user guide is structured as two main sections:\n",
    "\n",
    "- [Reactive Functions](#Reactive-Functions): Using `param.bind` to declare functions that react when their inputs change.\n",
    "- [Reactive Expressions](#Reactive-Expressions): Using `param.reactive` (or `.rx()` on Parameter objects) to wrap ordinary objects and/or parameters in a proxy that acts like the underlying object but reacts when an input changes."
   ]
  },
  {
   "cell_type": "markdown",
   "id": "c914e5f9-6c39-4dbf-b89c-d409842df3e0",
   "metadata": {},
   "source": [
    "## Getting started\n",
    "\n",
    "Before we dive in to discover how this works behind the scenes, let's get started with a concrete example. What reactive expressions are great for is writing pipelines of operations in a natural form, i.e., without having to explicitly track and update state or the control flow. In most cases, you can simply write the same non-reactive Python code you always write, but then use arguments and option values that are reactive, so that the pipeline will re-run if the value changes.\n",
    "\n",
    "For an example, let's load some data into a [Pandas](https://pandas.pydata.org) DataFrame and make it reactive:"
   ]
  },
  {
   "cell_type": "code",
   "execution_count": null,
   "id": "eaa1f75f",
   "metadata": {},
   "outputs": [],
   "source": [
    "import pandas as pd\n",
    "import param\n",
    "import param.ipython\n",
    "\n",
    "from param import rx"
   ]
  },
  {
   "cell_type": "code",
   "execution_count": null,
   "id": "b8bced20-02cf-4af1-83a8-47dd776a8779",
   "metadata": {},
   "outputs": [],
   "source": [
    "URL = 'https://datasets.holoviz.org/penguins/v1/penguins.csv'\n",
    "df = rx(pd.read_csv(URL))\n",
    "df.head(2)"
   ]
  },
  {
   "cell_type": "markdown",
   "id": "71463561",
   "metadata": {},
   "source": [
    "Here, this is just the same code you'd normally use to make a DataFrame, apart from using `rx()` to make the DataFrame into a reactive expression. As you can see, the reactive DataFrame works like any other DataFrame, using `.head()` and any other DataFrame methods as usual. But now, let's make the fixed number `2` above into a reactive expression, and see what happens:"
   ]
  },
  {
   "cell_type": "code",
   "execution_count": null,
   "id": "ac49145c",
   "metadata": {},
   "outputs": [],
   "source": [
    "nrows = rx(2)\n",
    "df.head(nrows)"
   ]
  },
  {
   "cell_type": "markdown",
   "id": "e90e96fc",
   "metadata": {},
   "source": [
    "So far, nothing's changed. But what if we change the value of `nrows`?"
   ]
  },
  {
   "cell_type": "code",
   "execution_count": null,
   "id": "e9ead350",
   "metadata": {},
   "outputs": [],
   "source": [
    "nrows.rx.set_input(4);"
   ]
  },
  {
   "cell_type": "markdown",
   "id": "349ae1e6-d07f-4106-924f-21fbf6a4b0f7",
   "metadata": {},
   "source": [
    "Whoa! As long as you are running a Jupyter notebook with a live Python process, you should have seen the dataframe \"head\" output _in_ _the_ _previous_ _cell_ update to the new value of `nrows`.  That's because the reactive `df` expression in that cell captures the full pipeline of operations, automatically re-running `head` because the `nrows` has now changed. \n",
    "\n",
    "We've done this without having to write any special callbacks or any new functions, instead using special Python objects that capture the operations you've invoked and replay them as needed when inputs change.\n",
    "\n",
    "These updates should happen immediately (not only when the code cell finishes executing):"
   ]
  },
  {
   "cell_type": "code",
   "execution_count": null,
   "id": "49b40993",
   "metadata": {},
   "outputs": [],
   "source": [
    "import time\n",
    "\n",
    "for i in range(4,9):\n",
    "    nrows.rx.set_input(i)\n",
    "    time.sleep(1)"
   ]
  },
  {
   "cell_type": "markdown",
   "id": "374de653",
   "metadata": {},
   "source": [
    "You should see the previous `df.head` output react to each time `nrows` is changed, updating to reflect the current state.\n",
    "\n",
    "We can get more complicated if we want, with a much more complex pipeline, but still matching the same code you'd write for a non-reactive Pandas DataFrame:"
   ]
  },
  {
   "cell_type": "code",
   "execution_count": null,
   "id": "298ad9dc-7099-4e4f-bf04-d296e0433109",
   "metadata": {},
   "outputs": [],
   "source": [
    "import numpy as np\n",
    "\n",
    "style = rx('color: white; background-color: {color}')\n",
    "color = rx('darkblue')\n",
    "\n",
    "def highlight_max(s, props=''):\n",
    "    if s.dtype.kind not in 'f':\n",
    "        return np.full_like(s, False)\n",
    "    return np.where(s == np.nanmax(s.values), props, '')\n",
    "\n",
    "styled_df = df.head(nrows).style.apply(highlight_max, props=style.format(color=color), axis=0)\n",
    "\n",
    "styled_df"
   ]
  },
  {
   "cell_type": "markdown",
   "id": "6f837bce-a2c2-4479-9adb-0a824fd29085",
   "metadata": {},
   "source": [
    "Here we've made two additional reactive values (`style` and `color`), and written a Pandas pipeline that uses those values using precisely the same syntax you would with a regular Pandas expression. Since this is now a reactive Pandas expression, it will re-run whenever any of those changes. To see, try executing each of the following commands, one by one:"
   ]
  },
  {
   "cell_type": "code",
   "execution_count": null,
   "id": "16d46876-0ded-4770-bb71-fd972d8d9046",
   "metadata": {},
   "outputs": [],
   "source": [
    "color.rx.set_input('red');"
   ]
  },
  {
   "cell_type": "code",
   "execution_count": null,
   "id": "aa9f36b4",
   "metadata": {},
   "outputs": [],
   "source": [
    "nrows.rx.set_input(nrows.rx.resolve()+2);"
   ]
  },
  {
   "cell_type": "code",
   "execution_count": null,
   "id": "b3502bc8",
   "metadata": {},
   "outputs": [],
   "source": [
    "color.rx.set_input('darkblue');"
   ]
  },
  {
   "cell_type": "markdown",
   "id": "8082c9db",
   "metadata": {},
   "source": [
    "In the code above, we made reactive strings, numbers, and DataFrame expressions. You can also make functions reactive, which lets you make the URL reactive as well:"
   ]
  },
  {
   "cell_type": "code",
   "execution_count": null,
   "id": "106363b4",
   "metadata": {},
   "outputs": [],
   "source": [
    "url = rx(URL)\n",
    "df = rx(pd.read_csv)(url)\n",
    "df.head(2)"
   ]
  },
  {
   "cell_type": "code",
   "execution_count": null,
   "id": "30d7e585",
   "metadata": {},
   "outputs": [],
   "source": [
    "url.rx.set_input('https://datasets.holoviz.org/gapminders/v1/gapminders.csv');"
   ]
  },
  {
   "cell_type": "code",
   "execution_count": null,
   "id": "742bd80f",
   "metadata": {},
   "outputs": [],
   "source": [
    "url.rx.set_input(URL);"
   ]
  },
  {
   "cell_type": "markdown",
   "id": "60db0a0a-a2be-4927-91a3-7cc8b10ea313",
   "metadata": {},
   "source": [
    "Here, `df` is no longer wrapping up a specific DataFrame and capturing operations on it, it's wrapping up the `read_csv` call that generates the DataFrame originally, but it all still works just the same. As you can see, reactive expressions let you write code just as you usually would, but then separately control all the reactive elements of it. \n",
    "\n",
    "Note that we have been using Jupyter Notebook cells as a way to change these reactive values, but if you imagine using a widgets from ipywidgets or [Panel](https://panel.holoviz.org) instead, you can see how easy it is to create a reactive computation or application with user-controllable options."
   ]
  },
  {
   "cell_type": "markdown",
   "id": "57c50ba5",
   "metadata": {},
   "source": [
    "## Reactive Functions\n",
    "\n",
    "Ok, now that you've seen reactive expressions in action, let's dive into how this all works. We'll first write a simple, non-reactive function to add two arguments:"
   ]
  },
  {
   "cell_type": "code",
   "execution_count": null,
   "id": "7a4bde61",
   "metadata": {},
   "outputs": [],
   "source": [
    "def add(a, b):\n",
    "    print(f'adding {a=} and {b=}')\n",
    "    return a + b\n",
    "\n",
    "add(3, 7)"
   ]
  },
  {
   "cell_type": "markdown",
   "id": "cbfdfa4b-a04e-465b-bf1f-2910cccd870f",
   "metadata": {},
   "source": [
    "Now, let's make a `Parameterized` class with some `Parameters`, here named `a` and `b`, that we'll want to add together reactively. We will also import `param.ipython` to install support for displaying \"live\" reactive components in an IPython or Jupyter notebook, re-rendering themselves when the inputs change."
   ]
  },
  {
   "cell_type": "code",
   "execution_count": null,
   "id": "f6bf6371-8dc8-4247-afaa-3ce872ed3371",
   "metadata": {},
   "outputs": [],
   "source": [
    "import param\n",
    "import param.ipython\n",
    "\n",
    "class Parameters(param.Parameterized):\n",
    "    \n",
    "    a = param.Number(1)\n",
    "\n",
    "    b = param.Number(0)\n",
    "\n",
    "    run = param.Event()\n",
    "    \n",
    "p = Parameters()"
   ]
  },
  {
   "cell_type": "markdown",
   "id": "1c4434e7-9b5d-4a5b-b9de-c444dae42e36",
   "metadata": {},
   "source": [
    "Ok, now we can use `param.bind` to \"bind\" parameters `a` and `b` to create a reactive function:"
   ]
  },
  {
   "cell_type": "code",
   "execution_count": null,
   "id": "c0a4c64e-ee64-405d-bace-605551b34234",
   "metadata": {},
   "outputs": [],
   "source": [
    "reactive_add = param.bind(add, p.param.a, p.param.b)\n",
    "\n",
    "reactive_add"
   ]
  },
  {
   "cell_type": "markdown",
   "id": "9094768c-5a39-448e-9721-e6253a2a55cb",
   "metadata": {},
   "source": [
    "As you can see, `reactive_add` works just like `add`, in that it adds two arguments, but in this case it's taking the value of the `a` and `b` Parameters of `p`. Parameter `a` has been \"bound\" to the first argument and `b` to the second, and if either of them changes, the result changes. So if we change `p.a` to 5, the output above changes immediately (it \"reacts\")."
   ]
  },
  {
   "cell_type": "code",
   "execution_count": null,
   "id": "f7cd00ac-02a2-4e0c-bc98-7ce9739ed55b",
   "metadata": {},
   "outputs": [],
   "source": [
    "p.a += 4"
   ]
  },
  {
   "cell_type": "markdown",
   "id": "9a0e5412-b13f-42aa-bb21-4bf6f289510b",
   "metadata": {},
   "source": [
    "We can also call the reactive function explicitly to return the current result as a concrete, no longer reactive value:"
   ]
  },
  {
   "cell_type": "code",
   "execution_count": null,
   "id": "1e026152-1772-4437-8165-dd9788edd1fb",
   "metadata": {},
   "outputs": [],
   "source": [
    "reactive_add()"
   ]
  },
  {
   "cell_type": "markdown",
   "id": "16d5e9ec",
   "metadata": {},
   "source": [
    "The difference between `reactive_add` and `reactive_add()` is that the first one is a function, whose display will automatically update in IPython/Jupyter thanks to the extension loaded above, while the second is a specific number (the result of calling that function a single time, never to be updated further):"
   ]
  },
  {
   "cell_type": "code",
   "execution_count": null,
   "id": "9f1c1879",
   "metadata": {},
   "outputs": [],
   "source": [
    "print(type(reactive_add), type(reactive_add()))"
   ]
  },
  {
   "cell_type": "markdown",
   "id": "03d62757-8b3f-4d67-b1a9-5759194408a2",
   "metadata": {},
   "source": [
    "`param.bind` follows the semantics of Python's `functools.partial`, and so if you only partially bind the required arguments, you'll get a function of the remaining arguments:"
   ]
  },
  {
   "cell_type": "code",
   "execution_count": null,
   "id": "88870bf0-1d5e-42e9-9c59-b538070ad701",
   "metadata": {},
   "outputs": [],
   "source": [
    "add_b = param.bind(add, p.param.a)\n",
    "add_b"
   ]
  },
  {
   "cell_type": "code",
   "execution_count": null,
   "id": "d516b3dc",
   "metadata": {},
   "outputs": [],
   "source": [
    "add_b(5)"
   ]
  },
  {
   "cell_type": "markdown",
   "id": "1b0ead79",
   "metadata": {},
   "source": [
    "Note that you can bind any accepted type to make a reactive function, not just Parameters, but static values won't trigger reactive updates (here 38 will always be the same value, while the result will depend on the current value of `p.param.a`)."
   ]
  },
  {
   "cell_type": "code",
   "execution_count": null,
   "id": "4badba81",
   "metadata": {},
   "outputs": [],
   "source": [
    "param.bind(add, p.param.a, b=38)"
   ]
  },
  {
   "cell_type": "markdown",
   "id": "5a774c07-63d7-4f40-be59-ce52242bdbd6",
   "metadata": {},
   "source": [
    "## Reactive Expressions\n",
    "\n",
    "While reactive functions are very useful and allow writing arbitrarily complex logic, they still require writing a Python function definition, which can be verbose to write and difficult to read. With a `reactive` expression instead of an explicitly defined function, you can wrap any object or parameter value and apply operations on it, just as if you are working with the actual object, but now with reactive outputs. In other words, the reactive expression acts as a proxy for the underlying value, while supporting (almost) all operations that can be performed with the original object.\n",
    "\n",
    "### Using Parameters\n",
    "\n",
    "As an example, let's create reactive proxies for the `a` and `b` parameters and add them together:"
   ]
  },
  {
   "cell_type": "code",
   "execution_count": null,
   "id": "243afd62-2f10-4dd3-a264-4d9a895c3088",
   "metadata": {},
   "outputs": [],
   "source": [
    "q = Parameters()\n",
    "\n",
    "expr = q.param.a.rx() + q.param.b.rx() + 3\n",
    "\n",
    "expr"
   ]
  },
  {
   "cell_type": "markdown",
   "id": "f62fe083-50c9-4739-aaec-81fb31f98241",
   "metadata": {},
   "source": [
    "The resulting reactive expression now reflects the result of this operation and will update automatically when one of the inputs to the operation changes, e.g. if we update parameter `a`:"
   ]
  },
  {
   "cell_type": "code",
   "execution_count": null,
   "id": "f71b9341-31bb-437f-90ab-3fb5da607f0a",
   "metadata": {},
   "outputs": [],
   "source": [
    "q.a += 2"
   ]
  },
  {
   "cell_type": "markdown",
   "id": "a48adb7e-c340-49e1-bec1-30ca6cc2eca2",
   "metadata": {},
   "source": [
    "### Resolving the expression\n",
    "\n",
    "Reactive objects generally just provide whatever API the underlying object has, but there are a few extra reactive-specific methods also provided. In order to avoid any clashes between the namespace of the reactive expression and the object it is wrapping, the extra methods are in a special namespace called `.rx`.\n",
    "\n",
    "For instance, to resolve the current value of the expression into the current value as a static (non-reactive) object, we can call `.rx.resolve()`:"
   ]
  },
  {
   "cell_type": "code",
   "execution_count": null,
   "id": "4391692a-e871-4e30-a29d-1eac06a7fc74",
   "metadata": {},
   "outputs": [],
   "source": [
    "expr.rx.resolve()"
   ]
  },
  {
   "cell_type": "markdown",
   "id": "57d1938b",
   "metadata": {},
   "source": [
    "The number displayed above is no longer tied to the reactive expression, it is its concrete output value, and so it will not update when `a` or `b` changes:"
   ]
  },
  {
   "cell_type": "code",
   "execution_count": null,
   "id": "942c52fc",
   "metadata": {},
   "outputs": [],
   "source": [
    "q.b += 2"
   ]
  },
  {
   "cell_type": "markdown",
   "id": "824dc59e-aea0-404e-b3c3-be134dffa8e0",
   "metadata": {},
   "source": [
    "### Using literal objects as inputs\n",
    "\n",
    "The convenient `param.reactive` function lets you make just about _anything_ reactive, without having to first define a new Parameterized object with explicit Parameters. E.g. we can create a `reactive` object from a static, literal value, such as a string:"
   ]
  },
  {
   "cell_type": "code",
   "execution_count": null,
   "id": "9b061295-a28c-4e13-9b8c-54f9070a0a4a",
   "metadata": {},
   "outputs": [],
   "source": [
    "string_template = rx('Hello {name}!')\n",
    "\n",
    "string_template"
   ]
  },
  {
   "cell_type": "markdown",
   "id": "05af1fa3-bcea-4c55-809f-beb8e4049e90",
   "metadata": {},
   "source": [
    "The `reactive` object now acts like a string so we can use the `.format` method to fill in the `string_template` with another reactive expression:"
   ]
  },
  {
   "cell_type": "code",
   "execution_count": null,
   "id": "56d8047b-b737-4b03-86a1-24b5b4d49bd3",
   "metadata": {},
   "outputs": [],
   "source": [
    "name = rx('world')\n",
    "\n",
    "str_expr = string_template.format(name=name)\n",
    "\n",
    "str_expr"
   ]
  },
  {
   "cell_type": "markdown",
   "id": "3218ab95-0261-4cd9-a4fe-6f552baafdb3",
   "metadata": {},
   "source": [
    "### Setting the input value\n",
    "\n",
    "To update the input to a `reactive` object we can use the `.rx.set_input(new)` method:"
   ]
  },
  {
   "cell_type": "code",
   "execution_count": null,
   "id": "d4842f2f-8d17-41eb-96f0-668d0ee545d1",
   "metadata": {},
   "outputs": [],
   "source": [
    "name.rx.set_input('there')\n",
    "\n",
    "str_expr.rx.resolve()"
   ]
  },
  {
   "cell_type": "markdown",
   "id": "d1f2b719-b80e-4fca-b78e-534971eee92e",
   "metadata": {},
   "source": [
    "### Functions\n",
    "\n",
    "In some cases you might not have a concrete value as a starting point and start with a function instead. A fully bound function can be converted to a reactive expression letting you work with the output of a function as if it was a concrete value:"
   ]
  },
  {
   "cell_type": "code",
   "execution_count": null,
   "id": "6b4e1c1a-8d19-4e4f-beae-042f01d4e41a",
   "metadata": {},
   "outputs": [],
   "source": [
    "param.bind(add, p.param.a, p.param.b).rx() / 2"
   ]
  },
  {
   "cell_type": "markdown",
   "id": "227a230b-98b2-4097-8a6d-798ddb63b74a",
   "metadata": {},
   "source": [
    "### Special Methods & Limitations\n",
    "\n",
    "A `reactive` proxy behaves like the underlying object it is wrapping, but only to the extent that Python allows. \n",
    "Certain operations cannot be implemented in this way, e.g. Python will not allow the `len` operation to return anything but a integer and the `is` statement always checks the immediate identity of its two operands. Reactive doesn't support operator keywords (i.e. `and`, `or`, `not`, `in` and `is`), control flow keywords (i.e. `if`, `elif`, `else`), ternary conditional expressions (i.e. `a if condition else b`), and only supports iteration keywords to a limited extent (i.e. `for` or `while`). Although it does implement an iterator interface this will only work well for fixed length collections.\n",
    "\n",
    "#### Special methods\n",
    "\n",
    "Therefore `reactive` implements certain operations as special methods that exist on the `.rx` namespace alongside `rx.set` and `rx.resolve`:\n",
    "\n",
    "- `.rx.bool()`: Reactive version of `bool()`, casting the output value to a Boolean.\n",
    "- `.rx.in_()`: Reactive version of `in`, testing if value is in the provided collection.\n",
    "- `.rx.is_()`: Reactive version of `is`, testings the object identity against another object.\n",
    "- `.rx.is_not()`: Reactive version of `is not`, testing the absence of object identity with another object.\n",
    "- `.rx.len()`: Reactive version of `len()`, returning the length of the expression\n",
    "- `.rx.pipe()`: Applies the given function (with static or reactive arguments) to this object.\n",
    "- `.rx.when()`: Generates a new expression that only updates when the provided dependency updates.\n",
    "- `.rx.where()`: Returns either the first or the second argument, depending on the current value of the expression."
   ]
  },
  {
   "cell_type": "markdown",
   "id": "0d1eb3de-88b0-4559-9eaf-89c74924e03d",
   "metadata": {},
   "source": [
    "#### `.rx.bool()`\n",
    "\n",
    "Casts the current value to a Boolean True or False value:"
   ]
  },
  {
   "cell_type": "code",
   "execution_count": null,
   "id": "5f45f775-facb-46f3-b06a-678f7d43d189",
   "metadata": {},
   "outputs": [],
   "source": [
    "rx(1).rx.bool()"
   ]
  },
  {
   "cell_type": "markdown",
   "id": "dcbf07d6-e53b-4658-86c7-15caf8eb540d",
   "metadata": {},
   "source": [
    "#### `.rx.in_(arg)`\n",
    "\n",
    "Checks if current value is `.in_` the other collection"
   ]
  },
  {
   "cell_type": "code",
   "execution_count": null,
   "id": "938583e7-c519-4c50-9f95-dc4099262a95",
   "metadata": {},
   "outputs": [],
   "source": [
    "rx(2).rx.in_([1, 2, 3])"
   ]
  },
  {
   "cell_type": "markdown",
   "id": "fb3697e6-0413-44cd-916a-dae665eb263b",
   "metadata": {},
   "source": [
    "#### `.rx.is_(arg)`\n",
    "\n",
    "Checks the identity of the current value is the same as the argument to `.is_`"
   ]
  },
  {
   "cell_type": "code",
   "execution_count": null,
   "id": "0db8bc66-bf5b-4214-b3de-063ec6d53523",
   "metadata": {},
   "outputs": [],
   "source": [
    "rx(None).rx.is_(None)"
   ]
  },
  {
   "cell_type": "markdown",
   "id": "819249de-513d-4286-9a6f-ed14adba70bc",
   "metadata": {},
   "source": [
    "#### `.rx.is_not(arg)`\n",
    "\n",
    "Checks the identity of the current value is not the same as the argument to `.is_not`"
   ]
  },
  {
   "cell_type": "code",
   "execution_count": null,
   "id": "93db5be8-2023-4a67-83f0-329d0dea69d1",
   "metadata": {},
   "outputs": [],
   "source": [
    "rx(None).rx.is_not(None)"
   ]
  },
  {
   "cell_type": "markdown",
   "id": "9cba7f57-bc62-47bd-9cfd-b66c13d9f0e2",
   "metadata": {},
   "source": [
    "#### `.rx.len()`\n",
    "\n",
    "Returns the length of the object"
   ]
  },
  {
   "cell_type": "code",
   "execution_count": null,
   "id": "b9552875-905a-49d8-a1a3-6a824aeb1988",
   "metadata": {},
   "outputs": [],
   "source": [
    "rx([1, 2, 3]).rx.len()"
   ]
  },
  {
   "cell_type": "markdown",
   "id": "2bd115e5-44bd-4d4d-b78a-a552b4072562",
   "metadata": {},
   "source": [
    "#### `.rx.pipe(func, *args, **kwargs)`\n",
    "\n",
    "Pipes the current value into a function as the first argument, passing in additional positional and keyword arguments if provided:"
   ]
  },
  {
   "cell_type": "code",
   "execution_count": null,
   "id": "c393e1e5-e18a-4b50-b355-cb3d461c8de5",
   "metadata": {},
   "outputs": [],
   "source": [
    "rx(1).rx.pipe(add, 2)"
   ]
  },
  {
   "cell_type": "code",
   "execution_count": null,
   "id": "34e985c6",
   "metadata": {},
   "outputs": [],
   "source": [
    "rx(8).rx.pipe(str)"
   ]
  },
  {
   "cell_type": "markdown",
   "id": "dfea7f35-f0fa-4bc0-954f-b01d5dcf9d6c",
   "metadata": {},
   "source": [
    "#### `.rx.when(*conditions)`\n",
    "\n",
    "Useful when creating UIs to declare that the expression should only update when some other parameter changes, e.g. when a user clicks a button or triggers an expensive operation through some other mechanism.\n",
    "\n",
    "For instance, let's say we have some expensive function (here simulated using `time.sleep`). First we bind parameters `a` and `b` to this function and create a reactive expression from this function."
   ]
  },
  {
   "cell_type": "code",
   "execution_count": null,
   "id": "b0b7e3cc-4c31-4208-8f0a-efa05cc6e13e",
   "metadata": {},
   "outputs": [],
   "source": [
    "import time\n",
    "\n",
    "def expensive_function(a, b):\n",
    "    print(f'multiplying {a=} and {b=}')\n",
    "    time.sleep(2)\n",
    "    return a * b\n",
    "\n",
    "p = Parameters()\n",
    "\n",
    "expensive_expr = param.bind(expensive_function, p.param.a, p.param.b).rx()"
   ]
  },
  {
   "cell_type": "markdown",
   "id": "24ef7256-904b-4e74-859a-39d30d391317",
   "metadata": {},
   "source": [
    "The problem we face is that if we use this `expensive_expr` whenever `a` **or** `b` are changed, then the expensive computation gets triggered *twice* if we want to change both `a` _and_ `b`. We could use `p.param.update()` to change them in bulk in this particular case, but since that's not always sufficient, here we'll gate the computation behind a third variable, e.g. the `run` `Event` parameter on the `Parameters` class."
   ]
  },
  {
   "cell_type": "code",
   "execution_count": null,
   "id": "8396d27b-81be-4185-be83-16a7bcfe0e4f",
   "metadata": {},
   "outputs": [],
   "source": [
    "gated_expr = expensive_expr.rx.when(p.param.run)\n",
    "\n",
    "gated_expr"
   ]
  },
  {
   "cell_type": "markdown",
   "id": "0b9b464b-1582-499f-b4c0-e7fe8074d8eb",
   "metadata": {},
   "source": [
    "We can now safely change variables `a` and `b` separately without triggering the computation:"
   ]
  },
  {
   "cell_type": "code",
   "execution_count": null,
   "id": "7f1dd442-0c57-49e2-97b5-2369adb35a7b",
   "metadata": {},
   "outputs": [],
   "source": [
    "p.a = 2\n",
    "p.b = 4\n",
    "\n",
    "gated_expr.rx.resolve()"
   ]
  },
  {
   "cell_type": "markdown",
   "id": "a1443865-288a-4320-841c-586fcfea04ac",
   "metadata": {},
   "source": [
    "But when we trigger the `run` parameter the expression will re-compute:"
   ]
  },
  {
   "cell_type": "code",
   "execution_count": null,
   "id": "85c2a7d1-ff76-4137-b9ce-24363177e120",
   "metadata": {},
   "outputs": [],
   "source": [
    "p.param.trigger('run')\n",
    "\n",
    "gated_expr.rx.resolve()"
   ]
  },
  {
   "cell_type": "markdown",
   "id": "d74f3645-5186-46b5-b85b-4e512cfae7bd",
   "metadata": {},
   "source": [
    "#### `.rx.where(x, y)`\n",
    "\n",
    "Allows writing ternary conditions using the reactive paradigm. Ordinarily you can write something like this:\n",
    "\n",
    "```python\n",
    "value_a if some_condition else value_b\n",
    "``` \n",
    "\n",
    "to return `value_a` or `value_b` depending on some condition. However, Python does not allow overriding `if`, so `if`  statements are not re-evaluated when the condition changes, and instead we have to rewrite this case using `where`.\n",
    "\n",
    "First we will declare a condition, which here is simply a `reactive` expression wrapping a Boolean value:"
   ]
  },
  {
   "cell_type": "code",
   "execution_count": null,
   "id": "dd4f9569-b9a9-4d43-93cb-93ffba6ce927",
   "metadata": {},
   "outputs": [],
   "source": [
    "condition = rx(True)"
   ]
  },
  {
   "cell_type": "markdown",
   "id": "d0dff104-a095-4a97-806b-059b4c9aa622",
   "metadata": {},
   "source": [
    "Now let's say we want to return either Parameter `a` or `b` depending on whether the condition is True or False. We can simply pass the values to `.where()`:"
   ]
  },
  {
   "cell_type": "code",
   "execution_count": null,
   "id": "e9a36314-9a79-4e74-83e8-137f86655999",
   "metadata": {},
   "outputs": [],
   "source": [
    "p = Parameters(a=1, b=2)\n",
    "\n",
    "ternary_expr = condition.rx.where(p.param.a, p.param.b)\n",
    "\n",
    "ternary_expr"
   ]
  },
  {
   "cell_type": "markdown",
   "id": "88ef4e67-0fa4-45a7-8154-89f94183d3fe",
   "metadata": {},
   "source": [
    "Since the initial value is `True` it returns the current value of `a`, which is `1`. However when we set the value to `False` it will return the value of `b`:\n"
   ]
  },
  {
   "cell_type": "code",
   "execution_count": null,
   "id": "2a1ce24c-e5b3-497d-83bc-5ba351ece9ef",
   "metadata": {},
   "outputs": [],
   "source": [
    "condition.rx.set_input(False)\n",
    "\n",
    "ternary_expr.rx.resolve()"
   ]
  },
  {
   "cell_type": "markdown",
   "id": "ddb05099-e774-4f53-a345-527e44bdb5de",
   "metadata": {},
   "source": [
    "Importantly, if we now change `b` the result will be reflected by the expression, reactively unless we explicitly resolve the result:"
   ]
  },
  {
   "cell_type": "code",
   "execution_count": null,
   "id": "5e275e74-1d17-40bf-9382-d02a1fed61ae",
   "metadata": {},
   "outputs": [],
   "source": [
    "p.b = 5\n",
    "\n",
    "ternary_expr.rx.resolve()"
   ]
  },
  {
   "cell_type": "markdown",
   "id": "ce3ce7b3-8163-45b9-a465-17efdbca5c21",
   "metadata": {},
   "source": [
    "Here the expression value depends only on `b` thanks to the `where` condition, and thus changes to `a` will no longer trigger any downstream updates until the condition is reversed again."
   ]
  }
 ],
 "metadata": {
  "language_info": {
   "name": "python",
   "pygments_lexer": "ipython3"
  }
 },
 "nbformat": 4,
 "nbformat_minor": 5
}
