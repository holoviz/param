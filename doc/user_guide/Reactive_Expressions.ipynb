{
 "cells": [
  {
   "cell_type": "markdown",
   "id": "3ecf9ffc-96a0-4457-bc89-43cac0099e01",
   "metadata": {},
   "source": [
    "## Reactive Functions & Expressions\n",
    "\n",
    "In the [Dependencies and Watchers](Dependencies_and_Watchers.ipynb) guide we discovered how to express dependencies and write callbacks that are invoked when parameter values change. This imperative style of expressing dynamic behavior is powerful but can also end up resulting in complex code that is hard to read and maintain. Therefore Param 2.0 introduces a set of primitives that make it possible to express complex dependencies in a declarative form resulting in reactive functions and expressions that are re-evaluated automatically when required.\n",
    "\n",
    "The reactive programming model is one you might be familiar with from Excel, where formulas can reference cells or ranges and dynamically (or rather reactively) recompute when the inputs to a formula changes. In Param, Parameter objects represent the inputs or references in a formula and reactive expressions replace the concept of a formula. Additionally `param.bind` allows the creation of a reactive function with arbitrary inputs.\n",
    "\n",
    "This user guide is structured as two main sections:\n",
    "\n",
    "- [Reactive Functions](#Reactive-Functions): Using `param.bind` to declare functions that react when their inputs change.\n",
    "- [Reactive Expressions](#Reactive-Expressions): Using `param.reactive` to wrap ordinary objects and/or parameters in a proxy that acts like the underlying object but reacts when an input changes."
   ]
  },
  {
   "cell_type": "markdown",
   "id": "cbfdfa4b-a04e-465b-bf1f-2910cccd870f",
   "metadata": {},
   "source": [
    "## Reactive Functions\n",
    "\n",
    "Let us start by creating a `Parameterized` class with some parameters, here named `a` and `b`. Additionally we import `param.ipython` to allow reactive components to display correctly and re-render themselves when the inputs change."
   ]
  },
  {
   "cell_type": "code",
   "execution_count": null,
   "id": "f6bf6371-8dc8-4247-afaa-3ce872ed3371",
   "metadata": {},
   "outputs": [],
   "source": [
    "import param\n",
    "import param.ipython\n",
    "\n",
    "class Parameters(param.Parameterized):\n",
    "    \n",
    "    a = param.Number(default=1)\n",
    "\n",
    "    b = param.Number()\n",
    "\n",
    "    run = param.Event()"
   ]
  },
  {
   "cell_type": "markdown",
   "id": "1c4434e7-9b5d-4a5b-b9de-c444dae42e36",
   "metadata": {},
   "source": [
    "Now we will create a reactive function using `param.bind`. We start by declaring a function that adds two parameters and then bind parameters `a` and `b` to that function:"
   ]
  },
  {
   "cell_type": "code",
   "execution_count": null,
   "id": "c0a4c64e-ee64-405d-bace-605551b34234",
   "metadata": {},
   "outputs": [],
   "source": [
    "def add(a, b):\n",
    "    return a + b\n",
    "\n",
    "p = Parameters()\n",
    "\n",
    "reactive_add = param.bind(add, p.param.a, p.param.b)\n",
    "\n",
    "reactive_add"
   ]
  },
  {
   "cell_type": "markdown",
   "id": "9094768c-5a39-448e-9721-e6253a2a55cb",
   "metadata": {},
   "source": [
    "Binding parameters to a function returns a new bound function which will behave like `add` called with the given positional and keyword arguments. You can see that this bound function renders the output and when we update one of the inputs to the function the output will reflect the updated result."
   ]
  },
  {
   "cell_type": "code",
   "execution_count": null,
   "id": "f7cd00ac-02a2-4e0c-bc98-7ce9739ed55b",
   "metadata": {},
   "outputs": [],
   "source": [
    "p.a = 5\n",
    "\n",
    "reactive_add"
   ]
  },
  {
   "cell_type": "markdown",
   "id": "9a0e5412-b13f-42aa-bb21-4bf6f289510b",
   "metadata": {},
   "source": [
    "We can also call the reactive function explicitly to return the current result:"
   ]
  },
  {
   "cell_type": "code",
   "execution_count": null,
   "id": "1e026152-1772-4437-8165-dd9788edd1fb",
   "metadata": {},
   "outputs": [],
   "source": [
    "reactive_add()"
   ]
  },
  {
   "cell_type": "markdown",
   "id": "03d62757-8b3f-4d67-b1a9-5759194408a2",
   "metadata": {},
   "source": [
    "Note that if you only partially bind the required arguments the function will not be automatically evaluated:"
   ]
  },
  {
   "cell_type": "code",
   "execution_count": null,
   "id": "88870bf0-1d5e-42e9-9c59-b538070ad701",
   "metadata": {},
   "outputs": [],
   "source": [
    "param.bind(add, p.param.a)"
   ]
  },
  {
   "cell_type": "markdown",
   "id": "5a774c07-63d7-4f40-be59-ce52242bdbd6",
   "metadata": {},
   "source": [
    "## Reactive Expressions\n",
    "\n",
    "While reactive functions are very useful and allow writing arbitrary logic they still require writing the actual functions which results in more indirection and less readability. With a `reactive` expression you can wrap any object or parameter value and apply operations on it, as if you are working with the actual object. In other words, it acts as a proxy of the underlying value and supports (almost) all operations that can be performed with the original object.\n",
    "\n",
    "In order to avoid any clashes between the namespace of the reactive expression and the object it is wrapping, it has a special name space called `.rx`, that contains special methods to work with the expression.\n",
    "\n",
    "\n",
    "### Using Parameters\n",
    "\n",
    "As an example we can create reactive proxies for the `a` and `b` parameters and add them together:"
   ]
  },
  {
   "cell_type": "code",
   "execution_count": null,
   "id": "243afd62-2f10-4dd3-a264-4d9a895c3088",
   "metadata": {},
   "outputs": [],
   "source": [
    "p = Parameters()\n",
    "\n",
    "expr = p.param.a.reactive() + p.param.b.reactive() + 3\n",
    "\n",
    "expr"
   ]
  },
  {
   "cell_type": "markdown",
   "id": "f62fe083-50c9-4739-aaec-81fb31f98241",
   "metadata": {},
   "source": [
    "The resulting reactive expression now reflects the result of this operation and will update automatically when one of the inputs to the operation changes, e.g. if we update parameter `a`:"
   ]
  },
  {
   "cell_type": "code",
   "execution_count": null,
   "id": "f71b9341-31bb-437f-90ab-3fb5da607f0a",
   "metadata": {},
   "outputs": [],
   "source": [
    "p.a = 5"
   ]
  },
  {
   "cell_type": "markdown",
   "id": "a48adb7e-c340-49e1-bec1-30ca6cc2eca2",
   "metadata": {},
   "source": [
    "### Resolving the expression\n",
    "\n",
    "To resolve the current value of the expression we can call `.rx.resolve()`:"
   ]
  },
  {
   "cell_type": "code",
   "execution_count": null,
   "id": "4391692a-e871-4e30-a29d-1eac06a7fc74",
   "metadata": {},
   "outputs": [],
   "source": [
    "expr.rx.resolve()"
   ]
  },
  {
   "cell_type": "markdown",
   "id": "824dc59e-aea0-404e-b3c3-be134dffa8e0",
   "metadata": {},
   "source": [
    "### Using literal objects as inputs\n",
    "\n",
    "Note that the input to a reactive expression can be anything, e.g. we can create a `reactive` object from a static, literal value, such as a string:"
   ]
  },
  {
   "cell_type": "code",
   "execution_count": null,
   "id": "9b061295-a28c-4e13-9b8c-54f9070a0a4a",
   "metadata": {},
   "outputs": [],
   "source": [
    "string_template = param.reactive('Hello {name}!')\n",
    "\n",
    "string_template"
   ]
  },
  {
   "cell_type": "markdown",
   "id": "05af1fa3-bcea-4c55-809f-beb8e4049e90",
   "metadata": {},
   "source": [
    "The `reactive` object now acts like a string so we can use the `.format` method to fill in the `string_template`:"
   ]
  },
  {
   "cell_type": "code",
   "execution_count": null,
   "id": "56d8047b-b737-4b03-86a1-24b5b4d49bd3",
   "metadata": {},
   "outputs": [],
   "source": [
    "name = param.reactive('world')\n",
    "\n",
    "str_expr = string_template.format(name=name)\n",
    "\n",
    "str_expr"
   ]
  },
  {
   "cell_type": "markdown",
   "id": "3218ab95-0261-4cd9-a4fe-6f552baafdb3",
   "metadata": {},
   "source": [
    "### Setting the input value\n",
    "\n",
    "To update the input to a `reactive` object we can use the `.rx.set()` method:"
   ]
  },
  {
   "cell_type": "code",
   "execution_count": null,
   "id": "d4842f2f-8d17-41eb-96f0-668d0ee545d1",
   "metadata": {},
   "outputs": [],
   "source": [
    "name.rx.set('there')\n",
    "\n",
    "str_expr.rx.resolve()"
   ]
  },
  {
   "cell_type": "markdown",
   "id": "227a230b-98b2-4097-8a6d-798ddb63b74a",
   "metadata": {},
   "source": [
    "### Special Methods & Limitations\n",
    "\n",
    "A `reactive` proxy behaves like the underlying object it is wrapping, but only to the extent that Python allows. Certain operations cannot be implemented in this way, e.g. Python will not allow the `len` operation to return anything but a integer and the `is` statement always checks the immediate identity of its two operands. Therefore `reactive` implements certain operations as special methods that exist on the `.rx` namespace, these include:\n",
    "\n",
    "- `.bool()`: Tests the truthiness of the object\n",
    "- `.is_()`: Tests the object identity against another object.\n",
    "- `.is_not()`: Tests the object identity against another object.\n",
    "- `.len()`: The length of the expression\n",
    "- `.pipe()`: Allows applying an arbitrary function with static or reactive arguments to the object.\n",
    "- `.when()`: Generates a new expression that only updates when the provided dependency updates.\n",
    "- `.where()`: Returns either the first or the second argument depending on the current value of the expression."
   ]
  },
  {
   "cell_type": "markdown",
   "id": "0d1eb3de-88b0-4559-9eaf-89c74924e03d",
   "metadata": {},
   "source": [
    "#### `.bool()`\n",
    "\n",
    "Casts the current value to a boolean:"
   ]
  },
  {
   "cell_type": "code",
   "execution_count": null,
   "id": "5f45f775-facb-46f3-b06a-678f7d43d189",
   "metadata": {},
   "outputs": [],
   "source": [
    "param.reactive(1).rx.bool()"
   ]
  },
  {
   "cell_type": "markdown",
   "id": "fb3697e6-0413-44cd-916a-dae665eb263b",
   "metadata": {},
   "source": [
    "#### `.is_(arg)`\n",
    "\n",
    "Checks the identity of the current value is the same as the argument to `.is_`"
   ]
  },
  {
   "cell_type": "code",
   "execution_count": null,
   "id": "0db8bc66-bf5b-4214-b3de-063ec6d53523",
   "metadata": {},
   "outputs": [],
   "source": [
    "param.reactive(None).rx.is_(None)"
   ]
  },
  {
   "cell_type": "markdown",
   "id": "819249de-513d-4286-9a6f-ed14adba70bc",
   "metadata": {},
   "source": [
    "#### `.is_not(arg)`\n",
    "\n",
    "Checks the identity of the current value is not the same as the argument to `.is_not`"
   ]
  },
  {
   "cell_type": "code",
   "execution_count": null,
   "id": "93db5be8-2023-4a67-83f0-329d0dea69d1",
   "metadata": {},
   "outputs": [],
   "source": [
    "param.reactive(None).rx.is_not(None)"
   ]
  },
  {
   "cell_type": "markdown",
   "id": "9cba7f57-bc62-47bd-9cfd-b66c13d9f0e2",
   "metadata": {},
   "source": [
    "#### `.len()`\n",
    "\n",
    "Returns the length of the object"
   ]
  },
  {
   "cell_type": "code",
   "execution_count": null,
   "id": "b9552875-905a-49d8-a1a3-6a824aeb1988",
   "metadata": {},
   "outputs": [],
   "source": [
    "param.reactive([1, 2, 3]).rx.len()"
   ]
  },
  {
   "cell_type": "markdown",
   "id": "2bd115e5-44bd-4d4d-b78a-a552b4072562",
   "metadata": {},
   "source": [
    "#### `.pipe(func, *args, **kwargs)`\n",
    "\n",
    "Pipes the current value into a function as the first argument, additional positional and keyword arguments can be passed:"
   ]
  },
  {
   "cell_type": "code",
   "execution_count": null,
   "id": "c393e1e5-e18a-4b50-b355-cb3d461c8de5",
   "metadata": {},
   "outputs": [],
   "source": [
    "param.reactive(1).rx.pipe(add, 2)"
   ]
  },
  {
   "cell_type": "markdown",
   "id": "dfea7f35-f0fa-4bc0-954f-b01d5dcf9d6c",
   "metadata": {},
   "source": [
    "#### `.when(*conditions)`\n",
    "\n",
    "Useful when creating UIs to declare that the expression should only update when some other parameter changes, e.g. when a user clicks a button or triggers an expensive operation through some other mechanism.\n",
    "\n",
    "Let us build an example, let's say we have some expensive function (here simulated using `time.sleep`). First we bind parameters `a` and `b` to this function and create a reactive expression from this function."
   ]
  },
  {
   "cell_type": "code",
   "execution_count": null,
   "id": "b0b7e3cc-4c31-4208-8f0a-efa05cc6e13e",
   "metadata": {},
   "outputs": [],
   "source": [
    "import time\n",
    "\n",
    "def expensive_function(a, b):\n",
    "    time.sleep(2)\n",
    "    return a * b\n",
    "\n",
    "p = Parameters()\n",
    "\n",
    "expensive_expr = param.bind(expensive_function, p.param.a, p.param.b).reactive()"
   ]
  },
  {
   "cell_type": "markdown",
   "id": "24ef7256-904b-4e74-859a-39d30d391317",
   "metadata": {},
   "source": [
    "The problem we face is that if we use this `expensive_expr` whenever `a` **or** `b` are changed then the expensive computation is triggered, i.e. if we want to change both before re-computing then we are forced to re-run the function twice. We therefore want to gate the computation behind a third variable, e.g. the `run` `Event` parameter on the `Parameters` class."
   ]
  },
  {
   "cell_type": "code",
   "execution_count": null,
   "id": "8396d27b-81be-4185-be83-16a7bcfe0e4f",
   "metadata": {},
   "outputs": [],
   "source": [
    "gated_expr = expensive_expr.rx.when(p.param.run)\n",
    "\n",
    "gated_expr"
   ]
  },
  {
   "cell_type": "markdown",
   "id": "0b9b464b-1582-499f-b4c0-e7fe8074d8eb",
   "metadata": {},
   "source": [
    "We can now safely change variables `a` and `b` without triggering the computation:"
   ]
  },
  {
   "cell_type": "code",
   "execution_count": null,
   "id": "7f1dd442-0c57-49e2-97b5-2369adb35a7b",
   "metadata": {},
   "outputs": [],
   "source": [
    "p.a = 2\n",
    "p.b = 4\n",
    "\n",
    "gated_expr.rx.resolve()"
   ]
  },
  {
   "cell_type": "markdown",
   "id": "a1443865-288a-4320-841c-586fcfea04ac",
   "metadata": {},
   "source": [
    "But when we trigger the `run` parameter the expression will re-compute:"
   ]
  },
  {
   "cell_type": "code",
   "execution_count": null,
   "id": "85c2a7d1-ff76-4137-b9ce-24363177e120",
   "metadata": {},
   "outputs": [],
   "source": [
    "p.param.trigger('run')\n",
    "\n",
    "gated_expr.rx.resolve()"
   ]
  },
  {
   "cell_type": "markdown",
   "id": "d74f3645-5186-46b5-b85b-4e512cfae7bd",
   "metadata": {},
   "source": [
    "#### `.where(x, y)`\n",
    "\n",
    "Where allows writing ternary conditions using the reactive paradigm. Ordinarily you can write something like this:\n",
    "\n",
    "```python\n",
    "value_a if some_condition else value_b\n",
    "``` \n",
    "\n",
    "to return `value_a` or `value_b` depending on some condition. However since `if` statements are not re-evaluated when the condition changes we have to rewrite this case using `where`.\n",
    "\n",
    "First we will declare a condition, here this is simply a `reactive` expression wrapping a boolean value:"
   ]
  },
  {
   "cell_type": "code",
   "execution_count": null,
   "id": "dd4f9569-b9a9-4d43-93cb-93ffba6ce927",
   "metadata": {},
   "outputs": [],
   "source": [
    "condition = param.reactive(True)"
   ]
  },
  {
   "cell_type": "markdown",
   "id": "d0dff104-a095-4a97-806b-059b4c9aa622",
   "metadata": {},
   "source": [
    "Now let's say we want to return either Parameter `a` or `b` depending on whether the condition is True or False. We can simply pass the values to `.where()`:"
   ]
  },
  {
   "cell_type": "code",
   "execution_count": null,
   "id": "e9a36314-9a79-4e74-83e8-137f86655999",
   "metadata": {},
   "outputs": [],
   "source": [
    "p = Parameters(a=1, b=2)\n",
    "\n",
    "ternary_expr = condition.rx.where(p.param.a, p.param.b)\n",
    "\n",
    "ternary_expr"
   ]
  },
  {
   "cell_type": "markdown",
   "id": "88ef4e67-0fa4-45a7-8154-89f94183d3fe",
   "metadata": {},
   "source": [
    "Since the initial value is `True` it returns the current value of `a`, which is `1`. However when we set the value to `False` it will return the value of `b`:\n"
   ]
  },
  {
   "cell_type": "code",
   "execution_count": null,
   "id": "2a1ce24c-e5b3-497d-83bc-5ba351ece9ef",
   "metadata": {},
   "outputs": [],
   "source": [
    "condition.rx.set(False)\n",
    "\n",
    "ternary_expr.rx.resolve()"
   ]
  },
  {
   "cell_type": "markdown",
   "id": "ddb05099-e774-4f53-a345-527e44bdb5de",
   "metadata": {},
   "source": [
    "Importantly, if we now change `b` the result will be reflected by the expression:"
   ]
  },
  {
   "cell_type": "code",
   "execution_count": null,
   "id": "5e275e74-1d17-40bf-9382-d02a1fed61ae",
   "metadata": {},
   "outputs": [],
   "source": [
    "p.b = 5\n",
    "\n",
    "ternary_expr.rx.resolve()"
   ]
  },
  {
   "cell_type": "markdown",
   "id": "ce3ce7b3-8163-45b9-a465-17efdbca5c21",
   "metadata": {},
   "source": [
    "While changes to `a` will no longer trigger any downstream updates until the condition is reversed again."
   ]
  }
 ],
 "metadata": {
  "language_info": {
   "name": "python",
   "pygments_lexer": "ipython3"
  }
 },
 "nbformat": 4,
 "nbformat_minor": 5
}
