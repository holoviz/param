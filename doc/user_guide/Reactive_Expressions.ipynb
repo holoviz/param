{
 "cells": [
  {
   "cell_type": "markdown",
   "id": "3ecf9ffc-96a0-4457-bc89-43cac0099e01",
   "metadata": {},
   "source": [
    "## Reactive Functions & Expressions"
   ]
  },
  {
   "cell_type": "markdown",
   "id": "3e73200e",
   "metadata": {},
   "source": [
    ":::{note}\n",
    "The reactive functionality introduced in this page - added in Param 2.0 - is still experimental while we get feedback about the API, packaging, and documentation, but it's fully ready to try out and give us [suggestions](https://github.com/holoviz/param/issues/new/choose)!\n",
    ":::"
   ]
  },
  {
   "cell_type": "markdown",
   "id": "858f5dd2",
   "metadata": {},
   "source": [
    "\n",
    "In the [Dependencies and Watchers](Dependencies_and_Watchers.ipynb) guide we discovered how to express dependencies and write callback functions that are invoked when parameter values change. This low-level, imperative style of expressing dynamic behavior is powerful, and works well for capturing complex behaviors in self-contained Parameterized classes with methods and Parameters. But even if you are not primarily designing a hierarchy of classes, it is still useful to be able to express dependencies between values and computations. Param 2.0 introduces a new set of declarative dynamic computation primitives that are useful even for single expressions, letting you write simple reactive functions and expressions that are re-evaluated automatically when required.\n",
    "\n",
    "The reactive programming model is one you might be familiar with from spreadsheets like Excel, where formulas can reference cells or ranges and dynamically (or more precisely, _reactively_) recompute when the inputs to a formula changes. In Param, Parameter objects correspond to a spreadsheet cell formula's inputs or references, and reactive expressions correspond to the formula itself. `param.bind` also allows the creation of a reactive function with arbitrary inputs.\n",
    "\n",
    "This user guide is structured as two main sections:\n",
    "\n",
    "- [Reactive Functions](#Reactive-Functions): Using `param.bind` to declare functions that react when their inputs change.\n",
    "- [Reactive Expressions](#Reactive-Expressions): Using `param.rx` (or `.rx()` on Parameter objects) to wrap ordinary objects and/or parameters in a proxy that acts like the underlying object but reacts when an input changes."
   ]
  },
  {
   "cell_type": "markdown",
   "id": "c914e5f9-6c39-4dbf-b89c-d409842df3e0",
   "metadata": {},
   "source": [
    "## Getting started\n",
    "\n",
    "Param's `rx` support lets you take a Python script written to do some particular task, and then go back and annotate it to (1) make some of the literals into reactive values, and (2) denote some of the computation as \"reactive expressions\" that capture computations and reactively reexecute it later when the values change. You can then change any of the values interactively, with results immediately visible. \n",
    "\n",
    "Without reactive expressions, you'd need to write explicit callbacks and keep track of state and control flow \"manually\", which quickly gets complicated and makes application code look and read very different from a simple Python script. \n",
    "\n",
    "Before we dive in to discover how `rx` works behind the scenes, let's get started with a concrete example of loading some data into a [Pandas](https://pandas.pydata.org) DataFrame and then displaying it:"
   ]
  },
  {
   "cell_type": "code",
   "execution_count": null,
   "id": "eaa1f75f",
   "metadata": {},
   "outputs": [],
   "source": [
    "import pandas as pd\n",
    "import param, param.ipython\n",
    "\n",
    "from param import rx"
   ]
  },
  {
   "cell_type": "code",
   "execution_count": null,
   "id": "4833f209",
   "metadata": {},
   "outputs": [],
   "source": [
    "URL = 'https://datasets.holoviz.org/penguins/v1/penguins.csv'\n",
    "nrows = rx(2)\n",
    "df = rx(pd.read_csv(URL))\n",
    "df.head(nrows)"
   ]
  },
  {
   "cell_type": "markdown",
   "id": "71463561",
   "metadata": {},
   "source": [
    "Here, this is just the same code you'd normally use to make a DataFrame, except for `rx()` being used to mark `nrows` and `df` as being reactive. As you can see, the reactive DataFrame works like any other DataFrame, using `.head()` and any other DataFrame methods as usual. But now, let's see what happens if we update the value of `nrows`:"
   ]
  },
  {
   "cell_type": "code",
   "execution_count": null,
   "id": "e9ead350",
   "metadata": {},
   "outputs": [],
   "source": [
    "nrows.rx.value += 2"
   ]
  },
  {
   "cell_type": "markdown",
   "id": "349ae1e6-d07f-4106-924f-21fbf6a4b0f7",
   "metadata": {},
   "source": [
    "Whoa! As long as you are running a Jupyter notebook with a live Python process, you should have seen the dataframe \"head\" output _in_ _the_ _previous_ _cell_ update to the new value of `nrows`.  That's because the reactive `df` expression being displayed in that cell captures the full pipeline of operations, automatically re-running `head` because the `nrows` has now changed. \n",
    "\n",
    "We've done this without having to write any special callbacks or any new functions, instead using special Python objects that capture the operations you've invoked and replay them as needed when inputs change.\n",
    "\n",
    "These updates should happen immediately (not only when the code cell finishes executing):"
   ]
  },
  {
   "cell_type": "code",
   "execution_count": null,
   "id": "49b40993",
   "metadata": {},
   "outputs": [],
   "source": [
    "import time\n",
    "\n",
    "for i in range(5,10):\n",
    "    nrows.rx.value = i\n",
    "    time.sleep(1)"
   ]
  },
  {
   "cell_type": "markdown",
   "id": "374de653",
   "metadata": {},
   "source": [
    "You should see the previous `df.head` output react to each time `nrows` is changed, updating to reflect the current state.\n",
    "\n",
    "We can get more complicated if we want, with a much more complex pipeline, but still matching the same code you'd write for a non-reactive Pandas DataFrame (just delete `rx()` to see):"
   ]
  },
  {
   "cell_type": "code",
   "execution_count": null,
   "id": "298ad9dc-7099-4e4f-bf04-d296e0433109",
   "metadata": {},
   "outputs": [],
   "source": [
    "import numpy as np\n",
    "\n",
    "style = rx('color: white; background-color: {color}')\n",
    "color = rx('darkblue')\n",
    "\n",
    "def highlight_max(s, props=''):\n",
    "    if s.dtype.kind not in 'f':\n",
    "        return np.full_like(s, False)\n",
    "    return np.where(s == np.nanmax(s.values), props, '')\n",
    "\n",
    "styled_df = df.head(nrows).style.apply(highlight_max, props=style.format(color=color), axis=0)\n",
    "\n",
    "styled_df"
   ]
  },
  {
   "cell_type": "markdown",
   "id": "6f837bce-a2c2-4479-9adb-0a824fd29085",
   "metadata": {},
   "source": [
    "Here we've made two additional reactive values (`style` and `color`), and written a Pandas pipeline reacting to those values, using precisely the same syntax you would with a regular Pandas expression. Since `styled_df` is now a reactive Pandas expression, it will re-run whenever any of those changes. To see, try executing each of the following commands, one by one:"
   ]
  },
  {
   "cell_type": "code",
   "execution_count": null,
   "id": "16d46876-0ded-4770-bb71-fd972d8d9046",
   "metadata": {},
   "outputs": [],
   "source": [
    "color.rx.value = 'red'"
   ]
  },
  {
   "cell_type": "code",
   "execution_count": null,
   "id": "aa9f36b4",
   "metadata": {},
   "outputs": [],
   "source": [
    "nrows.rx.value += 2"
   ]
  },
  {
   "cell_type": "code",
   "execution_count": null,
   "id": "b3502bc8",
   "metadata": {},
   "outputs": [],
   "source": [
    "color.rx.value = 'darkblue'"
   ]
  },
  {
   "cell_type": "markdown",
   "id": "8082c9db",
   "metadata": {},
   "source": [
    "In the code above, we made reactive strings, numbers, and DataFrame expressions. You can also make functions reactive, which lets you make the URL reactive as well:"
   ]
  },
  {
   "cell_type": "code",
   "execution_count": null,
   "id": "106363b4",
   "metadata": {},
   "outputs": [],
   "source": [
    "url = rx(URL)\n",
    "df = rx(pd.read_csv)(url)\n",
    "df.head(2)"
   ]
  },
  {
   "cell_type": "code",
   "execution_count": null,
   "id": "30d7e585",
   "metadata": {},
   "outputs": [],
   "source": [
    "url.rx.value = 'https://datasets.holoviz.org/gapminders/v1/gapminders.csv'"
   ]
  },
  {
   "cell_type": "code",
   "execution_count": null,
   "id": "742bd80f",
   "metadata": {},
   "outputs": [],
   "source": [
    "url.rx.value = URL"
   ]
  },
  {
   "cell_type": "markdown",
   "id": "60db0a0a-a2be-4927-91a3-7cc8b10ea313",
   "metadata": {},
   "source": [
    "Here, `df` is no longer wrapping up a specific DataFrame and capturing operations on it, it's wrapping up the `read_csv` call that generates the DataFrame originally, but it all still works just the same. As you can see, reactive expressions let you write code just as you usually would, but then separately control all the reactive elements of it. \n",
    "\n",
    "Note that we have been setting `.rx.value` in Jupyter Notebook cells as a way to change these reactive values, but if you imagine using a widgets from ipywidgets or [Panel](https://panel.holoviz.org) instead of literal values, you can see how easy it is to create a reactive computation or application with user-controllable options."
   ]
  },
  {
   "cell_type": "markdown",
   "id": "1c566d1a",
   "metadata": {},
   "source": [
    "## How it works\n",
    "\n",
    "Ok, so how does this all actually work? Underlying reactive expressions is Python's support for [operator overloading](https://www.geeksforgeeks.org/operator-overloading-in-python/), which lets a programmer define what `+` or other Python operators and functions do for that particular type. Here, we are overloading just about _everything_ on a reactive expression, delegating it to the underlying object but saving the series of operations involved so that the values involved can be updated as needed. \n",
    "\n",
    "Consider this simple reactive expression where `j` is initially 2 but updates to 8 after the value of `i` is changed:"
   ]
  },
  {
   "cell_type": "code",
   "execution_count": null,
   "id": "6a830ba9",
   "metadata": {},
   "outputs": [],
   "source": [
    "i = rx(1)\n",
    "j = i + 1\n",
    "print(j.rx.value)"
   ]
  },
  {
   "cell_type": "code",
   "execution_count": null,
   "id": "bad87395",
   "metadata": {},
   "outputs": [],
   "source": [
    "i.rx.value = 7\n",
    "print(j.rx.value)"
   ]
  },
  {
   "cell_type": "markdown",
   "id": "e089f478",
   "metadata": {},
   "source": [
    "Without `rx()`, adding 1 to `i` would have immediately invoked integer addition in Python, assigning an integer 2 to `j`. Because we made `i` a reactive expression, instead what happens is that `i` stores its input value on an internal attribute `_obj`, while overloading `+` to return another reactive object that records the function call ready to replay as needed:"
   ]
  },
  {
   "cell_type": "code",
   "execution_count": null,
   "id": "c5925184",
   "metadata": {},
   "outputs": [],
   "source": [
    "type(i), i._obj, j._operation"
   ]
  },
  {
   "cell_type": "markdown",
   "id": "51aed018",
   "metadata": {},
   "source": [
    "That way, whenever we access `.value` on `j`, we'll get the latest value of adding 1 to `i`, with the operator reapplied reactively if needed. More complex expressions simply chain operations like method calls and attribute accesses, applying each of them in turn to compute the final result. \n",
    "\n",
    "The one final bit of magic involved is that when you `import param.ipython`, IPython [rich display](https://ipython.readthedocs.io/en/stable/config/integrating.html#rich-display) methods are provided so that displayed reactive expressions are updated reactively. Without that import, displaying a reactive expression would reveal that it is simply a normal Python object rather than showing you the reactively updated underlying value:"
   ]
  },
  {
   "cell_type": "code",
   "execution_count": null,
   "id": "e524badf",
   "metadata": {},
   "outputs": [],
   "source": [
    "repr(j)"
   ]
  },
  {
   "cell_type": "code",
   "execution_count": null,
   "id": "9dcf4a1f",
   "metadata": {},
   "outputs": [],
   "source": [
    "j"
   ]
  },
  {
   "cell_type": "code",
   "execution_count": null,
   "id": "f633ec8a",
   "metadata": {},
   "outputs": [],
   "source": [
    "i.rx.value += 2"
   ]
  },
  {
   "cell_type": "markdown",
   "id": "85b987a7",
   "metadata": {},
   "source": [
    "As you can see, reactive expressions are just normal Python objects that wrap other objects, capturing the computations applied to them, and replaying the computations reactively so that you can immediately see the results of changing input values without having to spend a lot of work capturing the chain of computation manually."
   ]
  },
  {
   "cell_type": "markdown",
   "id": "a48adb7e-c340-49e1-bec1-30ca6cc2eca2",
   "metadata": {},
   "source": [
    "## Limitations\n",
    "\n",
    "So does Python really allow _all_ operations to be overloaded so that a reactive expression works precisely like the underlying objects? \n",
    "\n",
    "Nearly, but not quite. For technical reasons, certain operations cannot be implemented in this way:\n",
    "\n",
    "- Python requires the `len` operation to return an integer, not a deferred reactive integer\n",
    "- The Python `is` statement always checks the immediate identity of its two operands, and so it cannot be deferred  reactively\n",
    "- Logical operators like `and`, `or`, `not`, and `in` are required to return Boolean types rather than deferred, reactive Boolean types\n",
    "- No overloading is available for control flow keywords like `if`, `elif`, and `else` or ternary conditional expressions (i.e. `a if condition else b`), and so those actions cannot be captured for later reactive execution\n",
    "- Iteration keywords like `for` or `while` can only be overloaded to some extent, specifically for fixed length collections; other types of iteration cannot be captured for later reactive execution\n",
    "\n",
    "To help you work around these limitations, a reactive expression provides alternative ways of doing those operations, using methods on a special namespace `.rx` to avoid confusion with the underlying object's own methods. You've already seen `.rx.value`, a property that returns the current non-reactive value of the expression, and the following section lists all the other methods specific to reactive expressions."
   ]
  },
  {
   "cell_type": "markdown",
   "id": "227a230b-98b2-4097-8a6d-798ddb63b74a",
   "metadata": {},
   "source": [
    "## Special Methods on `.rx`\n",
    "\n",
    "Reactive expressions implement certain operations as special methods that exist on the `.rx` namespace alongside the `rx.value` property getter and setter:\n",
    "\n",
    "- `.rx.in_()`: Reactive version of `in`, testing if value is in the provided collection.\n",
    "- `.rx.is_()`: Reactive version of `is`, testings the object identity against another object.\n",
    "- `.rx.is_not()`: Reactive version of `is not`, testing the absence of object identity with another object.\n",
    "- `.rx.len()`: Reactive version of `len()`, returning the length of the expression\n",
    "- `.rx.pipe()`: Applies the given function (with static or reactive arguments) to this object.\n",
    "- `.rx.when()`: Generates a new expression that only updates when the provided dependency updates.\n",
    "- `.rx.where()`: Returns either the first or the second argument, depending on the current value of the expression.\n",
    "\n",
    "Unlike their corresponding standard Python equivalent, each of these returns a reactive expression that can thus be combined with other reactive expressions to make reactive pipelines."
   ]
  },
  {
   "cell_type": "markdown",
   "id": "dcbf07d6-e53b-4658-86c7-15caf8eb540d",
   "metadata": {},
   "source": [
    "#### `.rx.in_(arg)`\n",
    "\n",
    "Reactively checks if current value is `.in_` the other collection"
   ]
  },
  {
   "cell_type": "code",
   "execution_count": null,
   "id": "938583e7-c519-4c50-9f95-dc4099262a95",
   "metadata": {},
   "outputs": [],
   "source": [
    "rx(2).rx.in_([1, 2, 3])"
   ]
  },
  {
   "cell_type": "markdown",
   "id": "fb3697e6-0413-44cd-916a-dae665eb263b",
   "metadata": {},
   "source": [
    "#### `.rx.is_(arg)`\n",
    "\n",
    "Reactively checks if the identity of the current value is the same as the argument to `.is_`"
   ]
  },
  {
   "cell_type": "code",
   "execution_count": null,
   "id": "0db8bc66-bf5b-4214-b3de-063ec6d53523",
   "metadata": {},
   "outputs": [],
   "source": [
    "rx(None).rx.is_(None)"
   ]
  },
  {
   "cell_type": "markdown",
   "id": "819249de-513d-4286-9a6f-ed14adba70bc",
   "metadata": {},
   "source": [
    "#### `.rx.is_not(arg)`\n",
    "\n",
    "Reactively checks if the identity of the current value is not the same as the argument to `.is_not`"
   ]
  },
  {
   "cell_type": "code",
   "execution_count": null,
   "id": "93db5be8-2023-4a67-83f0-329d0dea69d1",
   "metadata": {},
   "outputs": [],
   "source": [
    "rx(None).rx.is_not(None)"
   ]
  },
  {
   "cell_type": "markdown",
   "id": "9cba7f57-bc62-47bd-9cfd-b66c13d9f0e2",
   "metadata": {},
   "source": [
    "#### `.rx.len()`\n",
    "\n",
    "Returns the length of the object as a reactive expression"
   ]
  },
  {
   "cell_type": "code",
   "execution_count": null,
   "id": "b9552875-905a-49d8-a1a3-6a824aeb1988",
   "metadata": {},
   "outputs": [],
   "source": [
    "obj = rx([1, 2, 3])\n",
    "obj.rx.len()"
   ]
  },
  {
   "cell_type": "code",
   "execution_count": null,
   "id": "123973cb",
   "metadata": {},
   "outputs": [],
   "source": [
    "type(obj.rx.len())"
   ]
  },
  {
   "cell_type": "markdown",
   "id": "2bd115e5-44bd-4d4d-b78a-a552b4072562",
   "metadata": {},
   "source": [
    "#### `.rx.pipe(func, *args, **kwargs)`\n",
    "\n",
    "Pipes the current value into a function as the first argument, passing in additional positional and keyword arguments if provided, and returning a reactive expression to replay that call as needed:"
   ]
  },
  {
   "cell_type": "code",
   "execution_count": null,
   "id": "c393e1e5-e18a-4b50-b355-cb3d461c8de5",
   "metadata": {},
   "outputs": [],
   "source": [
    "def f(a, b): return a + b\n",
    "    \n",
    "rx(1).rx.pipe(f, 2)"
   ]
  },
  {
   "cell_type": "markdown",
   "id": "ac92db62",
   "metadata": {},
   "source": [
    "`.rx.pipe` can be used with any Python function. One common usage is for making type conversion functions reactive:"
   ]
  },
  {
   "cell_type": "code",
   "execution_count": null,
   "id": "34e985c6",
   "metadata": {},
   "outputs": [],
   "source": [
    "rx(8.5).rx.pipe(int)"
   ]
  },
  {
   "cell_type": "code",
   "execution_count": null,
   "id": "116b865a",
   "metadata": {},
   "outputs": [],
   "source": [
    "rx(8.5).rx.pipe(str)"
   ]
  },
  {
   "cell_type": "markdown",
   "id": "dfea7f35-f0fa-4bc0-954f-b01d5dcf9d6c",
   "metadata": {},
   "source": [
    "#### `.rx.when(*conditions)`\n",
    "\n",
    "Useful when creating UIs to declare that the expression should only update when some other parameter changes, e.g. when a user clicks a button or triggers an expensive operation through some other mechanism.\n",
    "\n",
    "For instance, let's say we have some expensive function (here simulated using `time.sleep`). First we bind parameters `a` and `b` to this function and create a reactive expression from this function."
   ]
  },
  {
   "cell_type": "code",
   "execution_count": null,
   "id": "b0b7e3cc-4c31-4208-8f0a-efa05cc6e13e",
   "metadata": {},
   "outputs": [],
   "source": [
    "import time\n",
    "\n",
    "def expensive_function(a, b):\n",
    "    print(f'multiplying {a=} and {b=}')\n",
    "    time.sleep(2)\n",
    "    return a * b\n",
    "\n",
    "a = rx(1)\n",
    "b = rx(2)\n",
    "\n",
    "expensive_expr = rx(expensive_function)(a, b)"
   ]
  },
  {
   "cell_type": "markdown",
   "id": "24ef7256-904b-4e74-859a-39d30d391317",
   "metadata": {},
   "source": [
    "The problem we face is that if we use this `expensive_expr` whenever `a` **or** `b` are changed, then the expensive computation gets triggered *twice* if we want to change both `a` _and_ `b`. To avoid unnecessary expense, we can gate the computation behind a third variable we'll name `gate`:"
   ]
  },
  {
   "cell_type": "code",
   "execution_count": null,
   "id": "8396d27b-81be-4185-be83-16a7bcfe0e4f",
   "metadata": {},
   "outputs": [],
   "source": [
    "gate = rx(False)\n",
    "gated_expr = expensive_expr.rx.when(gate)\n",
    "\n",
    "gated_expr"
   ]
  },
  {
   "cell_type": "markdown",
   "id": "0b9b464b-1582-499f-b4c0-e7fe8074d8eb",
   "metadata": {},
   "source": [
    "We can now safely change variables `a` and `b` separately without triggering the computation:"
   ]
  },
  {
   "cell_type": "code",
   "execution_count": null,
   "id": "7f1dd442-0c57-49e2-97b5-2369adb35a7b",
   "metadata": {},
   "outputs": [],
   "source": [
    "a.rx.value = 2\n",
    "b.rx.value = 4\n",
    "\n",
    "gated_expr.rx.value"
   ]
  },
  {
   "cell_type": "markdown",
   "id": "a1443865-288a-4320-841c-586fcfea04ac",
   "metadata": {},
   "source": [
    "But when we trigger the `run` parameter the expression will re-compute:"
   ]
  },
  {
   "cell_type": "code",
   "execution_count": null,
   "id": "85c2a7d1-ff76-4137-b9ce-24363177e120",
   "metadata": {},
   "outputs": [],
   "source": [
    "gate.rx.value=True\n",
    "\n",
    "gated_expr.rx.value"
   ]
  },
  {
   "cell_type": "markdown",
   "id": "d74f3645-5186-46b5-b85b-4e512cfae7bd",
   "metadata": {},
   "source": [
    "#### `.rx.where(x, y)`\n",
    "\n",
    "Reactive ternary conditional. In non-reactive Python code you can write:\n",
    "\n",
    "```python\n",
    "a if condition else b\n",
    "``` \n",
    "\n",
    "to return value `a` or value `b` depending on some `condition`. However, Python does not allow overriding `if` to have special behavior for a reactive `condition`, and thus such an expression will immediately evaluate and return `a` or `b` rather than capturing this logic for later reactivity.\n",
    "\n",
    "So if we want to have a reactive conditional, we have to rewrite the expression using `where`. First we will declare a reactive `condition` expression to wrap a Boolean value that we can change later:"
   ]
  },
  {
   "cell_type": "code",
   "execution_count": null,
   "id": "dd4f9569-b9a9-4d43-93cb-93ffba6ce927",
   "metadata": {},
   "outputs": [],
   "source": [
    "condition = rx(True)"
   ]
  },
  {
   "cell_type": "markdown",
   "id": "d0dff104-a095-4a97-806b-059b4c9aa622",
   "metadata": {},
   "source": [
    "Now let's say we want to return either `a` or `b` depending on whether the `condition` is True or False. We can simply pass the values to `.where()`:"
   ]
  },
  {
   "cell_type": "code",
   "execution_count": null,
   "id": "e9a36314-9a79-4e74-83e8-137f86655999",
   "metadata": {},
   "outputs": [],
   "source": [
    "a = rx(1)\n",
    "b = rx(2)\n",
    "\n",
    "ternary_expr = condition.rx.where(a, b)\n",
    "ternary_expr"
   ]
  },
  {
   "cell_type": "markdown",
   "id": "88ef4e67-0fa4-45a7-8154-89f94183d3fe",
   "metadata": {},
   "source": [
    "Since the initial value is `True` it returns the current value of `a`, which is `1`. However when we set the value to `False` it will return the value of `b`:\n"
   ]
  },
  {
   "cell_type": "code",
   "execution_count": null,
   "id": "2a1ce24c-e5b3-497d-83bc-5ba351ece9ef",
   "metadata": {},
   "outputs": [],
   "source": [
    "condition.rx.value = False\n",
    "\n",
    "ternary_expr.rx.value"
   ]
  },
  {
   "cell_type": "markdown",
   "id": "ddb05099-e774-4f53-a345-527e44bdb5de",
   "metadata": {},
   "source": [
    "Importantly, if we now change `b` the result will be reflected by the expression, reactively unless we explicitly resolve the result:"
   ]
  },
  {
   "cell_type": "code",
   "execution_count": null,
   "id": "5e275e74-1d17-40bf-9382-d02a1fed61ae",
   "metadata": {},
   "outputs": [],
   "source": [
    "b.rx.value = 5\n",
    "\n",
    "ternary_expr.rx.value"
   ]
  },
  {
   "cell_type": "markdown",
   "id": "ce3ce7b3-8163-45b9-a465-17efdbca5c21",
   "metadata": {},
   "source": [
    "Here the expression value depends only on `b` thanks to the `where` condition, and thus changes to `a` will no longer trigger any downstream updates until the condition is reversed again."
   ]
  },
  {
   "cell_type": "markdown",
   "id": "73810468",
   "metadata": {},
   "source": [
    "## Using reactive expressions with Parameters and `param.bind`\n",
    "\n",
    "Reactive expressions are part of the [Param](https://param.holoviz.org) library, and behind the scenes all the reactivity is implemented using Parameters and their [dependencies and watchers](https://param.holoviz.org/user_guide/Dependencies_and_Watchers.html) support. You can use reactive expressions without needing to learn about Parameters, but if you do use Parameters in your work, they interact seamlessly with reactive expressions, providing a powerful and convenient way to organize your code and your work. In this section we will show how to use Parameters and the `param.bind` function together with reactive expressions.\n",
    "\n",
    "First, let's create a Parameterized class with a couple of Parameters:"
   ]
  },
  {
   "cell_type": "code",
   "execution_count": null,
   "id": "f6bf6371-8dc8-4247-afaa-3ce872ed3371",
   "metadata": {},
   "outputs": [],
   "source": [
    "class Parameters(param.Parameterized): \n",
    "    a = param.Number(1)\n",
    "\n",
    "    b = param.Number(0)\n",
    "\n",
    "    run = param.Event()\n",
    "    \n",
    "p = Parameters()"
   ]
  },
  {
   "cell_type": "markdown",
   "id": "cf4c375b",
   "metadata": {},
   "source": [
    "Any of the parameters can be used as reactive expressions by calling `.rx()` on their Parameter object:"
   ]
  },
  {
   "cell_type": "code",
   "execution_count": null,
   "id": "f8346eea",
   "metadata": {},
   "outputs": [],
   "source": [
    "expr = p.param.a.rx() + p.param.b.rx() + 3\n",
    "expr"
   ]
  },
  {
   "cell_type": "markdown",
   "id": "5f316cfc",
   "metadata": {},
   "source": [
    "Now if we update the Parameter, the result of the expression will update immediately:"
   ]
  },
  {
   "cell_type": "code",
   "execution_count": null,
   "id": "2cc67793",
   "metadata": {},
   "outputs": [],
   "source": [
    "p.b = 5\n",
    "print(expr.rx.value)"
   ]
  },
  {
   "cell_type": "markdown",
   "id": "7e5ff5e8",
   "metadata": {},
   "source": [
    "You can thus use any Parameter in your reactive expressions, including Parameters from [Panel](https://panel.holoviz.org) widgets."
   ]
  },
  {
   "cell_type": "markdown",
   "id": "46cf86aa",
   "metadata": {},
   "source": [
    "### Binding parameters to functions\n",
    "\n",
    "Reactive expressions are a general and powerful mechanism for writing dynamic code, but because of the layers of indirection involved, they can sometimes be difficult to debug or optimize. In many cases, you can make fully reactive pipelines with a much less \"magic\" approach, using Parameters together with a function called `param.bind`.\n",
    "\n",
    "To illustrate binding Parameters into a reactive function, let's define a simple Python function for adding numbers that also prints out its arguments so that we can see when it is called:"
   ]
  },
  {
   "cell_type": "code",
   "execution_count": null,
   "id": "7a4bde61",
   "metadata": {},
   "outputs": [],
   "source": [
    "def add(a, b):\n",
    "    print(f'add: {a}+{b}={a+b}')\n",
    "    return a + b\n",
    "\n",
    "add(3, 7)"
   ]
  },
  {
   "cell_type": "markdown",
   "id": "1c4434e7-9b5d-4a5b-b9de-c444dae42e36",
   "metadata": {},
   "source": [
    "Now we can use `param.bind` to \"bind\" parameters `a` and `b` to the `add` function's arguments to create a reactive function:"
   ]
  },
  {
   "cell_type": "code",
   "execution_count": null,
   "id": "c0a4c64e-ee64-405d-bace-605551b34234",
   "metadata": {},
   "outputs": [],
   "source": [
    "reactive_add = param.bind(add, p.param.a, p.param.b)\n",
    "\n",
    "reactive_add"
   ]
  },
  {
   "cell_type": "markdown",
   "id": "9094768c-5a39-448e-9721-e6253a2a55cb",
   "metadata": {},
   "source": [
    "As you can see, `reactive_add` works just like `add`, in that it adds two arguments, but in this case it's taking the value of the `a` and `b` Parameters of `p`. Parameter `a` has been \"bound\" to the first argument and `b` to the second, and if either of them changes, the result changes. So if we change `p.a` to 5, the output above reacts immediately."
   ]
  },
  {
   "cell_type": "code",
   "execution_count": null,
   "id": "f7cd00ac-02a2-4e0c-bc98-7ce9739ed55b",
   "metadata": {},
   "outputs": [],
   "source": [
    "p.a += 4"
   ]
  },
  {
   "cell_type": "markdown",
   "id": "9a0e5412-b13f-42aa-bb21-4bf6f289510b",
   "metadata": {},
   "source": [
    "We can also call the reactive function explicitly to return the current result as a concrete, no longer reactive value:"
   ]
  },
  {
   "cell_type": "code",
   "execution_count": null,
   "id": "1e026152-1772-4437-8165-dd9788edd1fb",
   "metadata": {},
   "outputs": [],
   "source": [
    "reactive_add()"
   ]
  },
  {
   "cell_type": "markdown",
   "id": "16d5e9ec",
   "metadata": {},
   "source": [
    "The difference between `reactive_add` and `reactive_add()` is that the first one is a function, whose display will automatically update in IPython/Jupyter thanks to the extension loaded above, while the second is a specific number (the result of calling that function a single time, never to be updated further):"
   ]
  },
  {
   "cell_type": "code",
   "execution_count": null,
   "id": "9f1c1879",
   "metadata": {},
   "outputs": [],
   "source": [
    "print(type(reactive_add), type(reactive_add()))"
   ]
  },
  {
   "cell_type": "markdown",
   "id": "03d62757-8b3f-4d67-b1a9-5759194408a2",
   "metadata": {},
   "source": [
    "`param.bind` follows the semantics of Python's `functools.partial`, and so if you only partially bind the required arguments, you'll get a function of the remaining arguments:"
   ]
  },
  {
   "cell_type": "code",
   "execution_count": null,
   "id": "88870bf0-1d5e-42e9-9c59-b538070ad701",
   "metadata": {},
   "outputs": [],
   "source": [
    "add_b = param.bind(add, p.param.a)\n",
    "add_b"
   ]
  },
  {
   "cell_type": "code",
   "execution_count": null,
   "id": "d516b3dc",
   "metadata": {},
   "outputs": [],
   "source": [
    "add_b(5)"
   ]
  },
  {
   "cell_type": "markdown",
   "id": "1b0ead79",
   "metadata": {},
   "source": [
    "Note that you can bind any accepted type to make a reactive function, not just Parameters, but static values won't trigger reactive updates (here 38 will always be the same value, while the result will depend on the current value of `p.param.a`)."
   ]
  },
  {
   "cell_type": "code",
   "execution_count": null,
   "id": "4badba81",
   "metadata": {},
   "outputs": [],
   "source": [
    "param.bind(add, p.param.a, b=38)"
   ]
  },
  {
   "cell_type": "markdown",
   "id": "d1f2b719-b80e-4fca-b78e-534971eee92e",
   "metadata": {},
   "source": [
    "Bound functions update their outputs reactively when displayed, but what if you want to use one in a reactive expression? You can easily do that if you call `.rx()` on a fully bound function to get a reactive exprssion to work with:"
   ]
  },
  {
   "cell_type": "code",
   "execution_count": null,
   "id": "6b4e1c1a-8d19-4e4f-beae-042f01d4e41a",
   "metadata": {},
   "outputs": [],
   "source": [
    "param.bind(add, p.param.a, p.param.b).rx() / 2"
   ]
  },
  {
   "cell_type": "markdown",
   "id": "1272daed",
   "metadata": {},
   "source": [
    "As you can see, you can use bound functions to get reactivity if you prefer to write specific functions, or you can use reactive expressions to capture computations without writing function definitions, or you can combine the two as needed. Feel free to use the approach that best meets your needs!\n",
    "\n",
    "And overall, hopefully you can see that Param's reactive support provides a natural and powerful way to capture your computations in a way that can be replayed automatically whenever inputs change, making it a convenient basis for building interactive applications and computations."
   ]
  }
 ],
 "metadata": {
  "language_info": {
   "name": "python",
   "pygments_lexer": "ipython3"
  }
 },
 "nbformat": 4,
 "nbformat_minor": 5
}
