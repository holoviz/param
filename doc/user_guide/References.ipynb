{
 "cells": [
  {
   "cell_type": "markdown",
   "id": "5d4a9beb-65c0-47dd-8afc-14b2c448f0b9",
   "metadata": {},
   "source": [
    "# Parameter references\n",
    "\n",
    "Building on the previous discussion about the dual roles of a `Parameter` - as both a value holder and a metadata container - let's explore how parameters can go a step further by acting as dynamic references to other parameters. When configured with `allow_refs=True`, a `Parameter` can serve as a live link to another `Parameter`, mirroring its current value. This capability enables more intricate relationships between parameters, allowing for automatic value synchronization and forming the basis for reactive programming."
   ]
  },
  {
   "cell_type": "code",
   "execution_count": null,
   "id": "e45694e1-9503-488f-8797-531b18d3502d",
   "metadata": {},
   "outputs": [],
   "source": [
    "import param\n",
    "\n",
    "class U(param.Parameterized):\n",
    "    \n",
    "    a = param.Number()\n",
    "    \n",
    "class V(param.Parameterized):\n",
    "    \n",
    "    b = param.Number(default=None, allow_refs=True)\n",
    "\n",
    "u = U(a=3.14)\n",
    "v = V(b=u.param.a)\n",
    "\n",
    "v.b"
   ]
  },
  {
   "cell_type": "markdown",
   "id": "5c5cbfee-a199-4ffb-8e35-f0b543916ff2",
   "metadata": {},
   "source": [
    "By declaring that `V.b` allows references we have made it possible to pass the Parameter `U.a`, which means `v.b` will reflect the value of `u.a`:"
   ]
  },
  {
   "cell_type": "code",
   "execution_count": null,
   "id": "3926d917-7334-45b4-8a49-4b9baf558d50",
   "metadata": {},
   "outputs": [],
   "source": [
    "u.a = 1.57\n",
    "\n",
    "v.b"
   ]
  },
  {
   "cell_type": "markdown",
   "id": "33744151-91c0-4d65-b84e-9a2678dc5eeb",
   "metadata": {},
   "source": [
    "This unidirectional link will be in effect until something else tries to set the value:"
   ]
  },
  {
   "cell_type": "code",
   "execution_count": null,
   "id": "345e5b1e-a191-44b0-8c8f-48908b4332a2",
   "metadata": {},
   "outputs": [],
   "source": [
    "v.b = 14.1\n",
    "u.a = 13.2\n",
    "\n",
    "v.b"
   ]
  },
  {
   "cell_type": "markdown",
   "id": "b8f1dd08-a91d-4e83-bb12-dd2447c8fad8",
   "metadata": {},
   "source": [
    "In other words, if the value is overridden from the outside the link will be automatically removed.\n",
    "\n",
    "Simple references are resolved when `allow_refs=True` but to allow nested references we separately have to set `nested_refs=True`."
   ]
  },
  {
   "cell_type": "code",
   "execution_count": null,
   "id": "e3ad5e4c-e8f1-4a16-b800-a06e434f2f65",
   "metadata": {},
   "outputs": [],
   "source": [
    "class W(V):\n",
    "    \n",
    "    c = param.List(allow_refs=True, nested_refs=True)\n",
    "    \n",
    "u1 = U(a=3)\n",
    "u2 = U(a=13)\n",
    "\n",
    "w = W(c=[u1.param.a, u2.param.a]) \n",
    "\n",
    "w.c"
   ]
  },
  {
   "cell_type": "markdown",
   "id": "2f52c6d5-dad7-4d38-8b0f-1364123b8e17",
   "metadata": {},
   "source": [
    "When we modify either `u1.a` or `u2.a`, `w.c` will update:"
   ]
  },
  {
   "cell_type": "code",
   "execution_count": null,
   "id": "e739d5f3-c762-4971-8386-48c5ed89e701",
   "metadata": {},
   "outputs": [],
   "source": [
    "u1.a = 7\n",
    "\n",
    "w.c"
   ]
  },
  {
   "cell_type": "markdown",
   "id": "32f2429f-fbff-4906-b3b0-4db7c3a9aa2b",
   "metadata": {},
   "source": [
    "Note that `Parameter` types are not the only types of valid references. The full list of valid references include:\n",
    "\n",
    "- Class and instance `Parameter` objects\n",
    "- Functions or methods annotated with `param.depends`\n",
    "- Functions wrapped with `param.bind`\n",
    "- Reactive expressions declared using `param.rx`\n",
    "- Asynchronous generators\n",
    "- Custom objects transformed into a valid reference with a hook registered with `param.parameterized.register_reference_transform`.\n",
    "\n",
    "There are two utility functions which allow resolving all parameters a reference depends on and the current value of the reference:"
   ]
  },
  {
   "cell_type": "code",
   "execution_count": null,
   "id": "da0cbf1c-e8b3-4d3a-9974-0c0e6ec1d2b0",
   "metadata": {},
   "outputs": [],
   "source": [
    "from param.parameterized import resolve_ref, resolve_value\n",
    "\n",
    "resolve_ref(u1.param.a), resolve_value(u1.param.a)"
   ]
  },
  {
   "cell_type": "markdown",
   "id": "9856dd01-153f-4f87-9acc-3f951592a475",
   "metadata": {},
   "source": [
    "## Skipping Reference Updates\n",
    "\n",
    "Since references are resolved eagerly whenever one of the dependencies change we may run into situations where we want to control when a reference is updated. Specifically we may want to skip resolving a reference if one of the inputs does not meet some condition or only if a certain event is triggered.\n",
    "\n",
    "Let's see how we can configure this. Here we will create a class `W` with parameters `a` and `b` and a `run` event. We then define a function to `add` parameters `a` and `b` but only if the `run` event is active. To do this we can raise a `param.Skip()` exception in the function."
   ]
  },
  {
   "cell_type": "code",
   "execution_count": null,
   "id": "d04c62cc-8bab-46d6-9a4a-9c645d1d6510",
   "metadata": {},
   "outputs": [],
   "source": [
    "class W(param.Parameterized):\n",
    "    \n",
    "    a = param.Number()\n",
    "    \n",
    "    b = param.Number()\n",
    "\n",
    "    run = param.Event()\n",
    "\n",
    "w = W(a=0, b=2)\n",
    "\n",
    "def add(a, b, run):\n",
    "    if not run:\n",
    "        raise param.Skip()\n",
    "    return a + b"
   ]
  },
  {
   "cell_type": "markdown",
   "id": "a5ab6ca1-e220-405d-a8cf-89c276a6aa7e",
   "metadata": {},
   "source": [
    "We can now bind all three parameters to the function:"
   ]
  },
  {
   "cell_type": "code",
   "execution_count": null,
   "id": "62af2167-e8cf-4099-8921-36d8a34b2a2b",
   "metadata": {},
   "outputs": [],
   "source": [
    "v = V(b=param.bind(add, w.param.a, w.param.b, w.param.run))\n",
    "\n",
    "v.b"
   ]
  },
  {
   "cell_type": "markdown",
   "id": "f28c3c42-bd6f-46e1-b269-fa6d13d0bbbd",
   "metadata": {},
   "source": [
    "Even though we initialized `v.b` with a reference it will not resolve this reference until we trigger a `run` event:"
   ]
  },
  {
   "cell_type": "code",
   "execution_count": null,
   "id": "28c13ab5-4616-4a42-8cff-f82ba9599e8f",
   "metadata": {},
   "outputs": [],
   "source": [
    "w.param.trigger('run')\n",
    "\n",
    "v.b"
   ]
  }
 ],
 "metadata": {
  "language_info": {
   "name": "python",
   "pygments_lexer": "ipython3"
  }
 },
 "nbformat": 4,
 "nbformat_minor": 5
}
