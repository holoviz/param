{
 "cells": [
  {
   "cell_type": "markdown",
   "metadata": {},
   "source": [
    "Param is part of the [HoloViz](https://holoviz.org) family of tools. The\n",
    "[holoviz.org](https://holoviz.org) website shows how to use Param\n",
    "together with other libraries to solve complex problems, with detailed\n",
    "tutorials and examples. Example projects using Param are at\n",
    "[examples.pyviz.org](https://examples.pyviz.org). and you can compare Param to other available tools at [pyviz.org](https://pyviz.org).\n",
    "\n",
    "Param is completely open source, available under a BSD license freely for both commercial and non-commercial use. Param was originally developed with the support of [Anaconda Inc](https://anaconda.com), and is now maintained by Anaconda developers and community contributors.\n",
    "\n",
    "If you have any questions or usage issues visit the [Param Discourse](https://discourse.holoviz.org/c/param/) site. If you are interested in contributing to Param development to help address some of the [open issues](https://github.com/holoviz/param/issues), see our [developer instructions](https://param.org/getting_started/#developer-instructions) to set up your development environment.\n",
    "\n",
    "Param is part of [HoloViz](http://holoviz.org), a collaborative project\n",
    "to produce a coherent solution to a wide range of Python visualization\n",
    "problems.\n",
    "\n",
    "If you like Param and have built something you want to share, tweet a link or screenshot of your latest creation at @HoloViz_org, along with any other library you used (@Panel_org, @HoloViews, @BokehPlots, @Matplotlib, etc.). Thanks!\n",
    "\n",
    "\n"
   ]
  }
 ],
 "metadata": {
  "kernelspec": {
   "display_name": "Python 3",
   "language": "python",
   "name": "python3"
  },
  "language_info": {
   "codemirror_mode": {
    "name": "ipython",
    "version": 3
   },
   "file_extension": ".py",
   "mimetype": "text/x-python",
   "name": "python",
   "nbconvert_exporter": "python",
   "pygments_lexer": "ipython3",
   "version": "3.7.6"
  }
 },
 "nbformat": 4,
 "nbformat_minor": 2
}
