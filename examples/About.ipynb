{
 "cells": [
  {
   "cell_type": "markdown",
   "metadata": {},
   "source": [
    "Param is part of the [HoloViz](https://holoviz.org) family of tools. The\n",
    "[holoviz.org](https://holoviz.org) website shows how to use Param\n",
    "together with other libraries to solve complex problems, with detailed\n",
    "tutorials and examples. Example projects using Param are at\n",
    "[examples.pyviz.org](https://examples.pyviz.org).\n",
    "\n",
    "Param is part of [HoloViz](http://holoviz.org), a collaborative project\n",
    "to produce a coherent solution to a wide range of Python visualization\n",
    "problems."
   ]
  }
 ],
 "metadata": {
  "language_info": {
   "name": "python",
   "pygments_lexer": "ipython3"
  }
 },
 "nbformat": 4,
 "nbformat_minor": 2
}
