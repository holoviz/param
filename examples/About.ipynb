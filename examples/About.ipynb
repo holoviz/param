{
 "cells": [
  {
   "cell_type": "markdown",
   "metadata": {},
   "source": [
    "Param is part of the [HoloViz](https://holoviz.org) family of tools. The\n",
    "[holoviz.org](https://holoviz.org) website shows how to use Param\n",
    "together with other libraries to solve complex problems, with detailed\n",
    "tutorials and examples.\n",
    "\n",
    "Param is completely open source, available under a [BSD license](https://github.com/holoviz/param/blob/master/LICENSE.txt) freely for both commercial and non-commercial use. Param was originally developed by the Neural Networks Research Group at the University of Texas at Austin and the Institute for Adaptive and Neural Computation at the University of Edinburgh with support from the United States National Institutes of Health (grant 1R01-MH66991), and is now maintained by developers at [Anaconda Inc.](https://anaconda.com) and community contributors.\n",
    "\n",
    "If you have any questions or usage issues visit the [Param Discourse](https://discourse.holoviz.org/c/param/) site. If you are interested in contributing to Param development to help address some of the [open issues](https://github.com/holoviz/param/issues), see our [developer instructions](https://param.org/getting_started/#developer-instructions) to set up your development environment.\n",
    "\n",
    "Param is part of [HoloViz](http://holoviz.org), a collaborative project\n",
    "to produce a coherent solution to a wide range of Python visualization\n",
    "problems.\n",
    "\n",
    "If you like Param and have built something you want to share, tweet a link or screenshot of your latest creation at @HoloViz_org. Thanks!\n",
    "\n",
    "\n"
   ]
  }
 ],
 "metadata": {
  "language_info": {
   "name": "python",
   "pygments_lexer": "ipython3"
  }
 },
 "nbformat": 4,
 "nbformat_minor": 2
}
