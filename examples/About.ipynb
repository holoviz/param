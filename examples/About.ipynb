{
 "cells": [
  {
   "cell_type": "markdown",
   "metadata": {},
   "source": [
    "Param is part of PyViz, a collaboration between the maintainers of [Bokeh](http://bokeh.pydata.org), [HoloViews](http://holoviews.org), [GeoViews](http://geo.holoviews.org), [Datashader](https://github.com/bokeh/datashader), and Param, including James A. Bednar, Philipp Rudiger, Jean-Luc Stevens, and Bryan Van de Ven.\n",
    "\n",
    "The authors of all of these tools are working closely together to help make them into a coherent solution to a wide range of Python visualization problems, funded in part by [Anaconda, Inc.](https://www.anaconda.com)."
   ]
  }
 ],
 "metadata": {
  "language_info": {
   "name": "python",
   "pygments_lexer": "ipython3"
  }
 },
 "nbformat": 4,
 "nbformat_minor": 2
}
