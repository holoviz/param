{
 "cells": [
  {
   "cell_type": "markdown",
   "id": "cc879fc5",
   "metadata": {},
   "source": [
    "# Parameter types\n",
    "\n",
    "You can get some of the benefit of Param from Parameter and Parameterized alone, such as having constant or readonly parameters, parameter value inheritance, and parameter docstrings. However, you'll typically want a more specialized Parameter type so that you can enforce type and bounds restrictions and enable suitable behavior specialized for that type of parameter. Param ships with a set of pre-defined more-specific Parameter types, and additional [Custom Parameters](Custom_Parameters.ipynb) can and should be added for any domain-specific parameter types.\n",
    "\n",
    "The predefined types are organized into a class hierarchy where each type is a subclass of Parameter:\n",
    "\n",
    "- **String**: String value, optionally constrained by a regular expression\n",
    "- **Boolean**: True or False (or None, if allowed)\n",
    "  * **Event**: True/False parameter used to trigger actions (see [Dependencies and watchers])(Dependencies_and_Watchers.ipynb).\n",
    "- **Color**: A hex string specifying an RGB color, or a standard named color\n",
    "- **Dynamic**: Base class for values that can be set to a callable that returns a concrete value\n",
    "  * **Number**: Any type of numeric value\n",
    "    - **Integer**: Positive or negative integer value\n",
    "    - **Magnitude**: Positive value in the inclusive range 0.0,1.0\n",
    "    - **Date**: Date or datetime type\n",
    "    - **CalendarDate**: Date (not datetime)\n",
    "- **Callable**: A callable object, such as a function.\n",
    "  * **Action**: A callable with no arguments, ready to invoke\n",
    "- **Path**: A POSIX-style string specifying the location of a local file or folder\n",
    "  * **Filename**: A POSIX-style string specifying the location of a local file\n",
    "  * **Foldername**: A POSIX-style string specifying the location of a local folder\n",
    "- **Composite**: A list of other attributes or parameters of this class, settable and readable as a group\n",
    "- **List**: A list of objects, potentially of a fixed, min, or max length\n",
    "  * **HookList**: A list of callables, for calling user-defined code at a processing stage\n",
    "- **Tuple**: Python tuple of a fixed length and optional fixed type\n",
    "  * **NumericTuple**: Python tuple of a fixed length and a numeric type\n",
    "    - **XYCoordinates**: Position in an x,y plane\n",
    "    - **Range**: A numeric range or interval\n",
    "      * **DateRange**: A range of dates or datetimes\n",
    "      * **CalendarDateRange**: A range of dates (not datetimes)\n",
    "- **SelectorBase**: Abstract superclass covering various selector parameter types\n",
    "  * **Selector**: One object selected out of a provided ordered list of objects\n",
    "    - **FileSelector**: One filename selected out of those matching a provided glob\n",
    "    - **ListSelector**: Multiple objects selected out of a provided list of objects\n",
    "      - **MultiFileSelector**: Multiple filenames selected out of those matching a provided glob\n",
    "    - [### Actually FileSelector, ListSelector, and MultiFileSelector inherit from ObjectSelector ATM; should be from Selector!]\n",
    "  * **ClassSelector**: An instance or class of a specified class or superclass\n",
    "    - **Dict**: A Python dictionary\n",
    "    - **Array**: NumPy array\n",
    "    - **DataFrame**: A Pandas DataFrame\n",
    "    - **DataFrame**: A Pandas Series\n"
   ]
  },
  {
   "cell_type": "markdown",
   "id": "1ff6440e",
   "metadata": {},
   "source": [
    "The full arguments and behavior of these types is covered in the [Reference Manual](https://param.holoviz.org/Reference_Manual/param.html). Here we will discuss the major categories of Parameter type and how to use them. After reading about Parameters in general, feel free to skip around in this page and only look at the parameter types of interest to you!\n",
    "\n"
   ]
  },
  {
   "cell_type": "markdown",
   "id": "000e1f83",
   "metadata": {},
   "source": [
    "## Numbers\n",
    "\n",
    "A Number is the most common type of Parameter. All numbers in param are of class Dynamic, which allows them to be set not just to a single value but to a value that can repeatedly be drawn from a distribution or a sequence. (See [Dynamic Parameters](Dynamic_Parameters.ipynb) for more information about using these dynamic features, which will not be further discussed here.) Any Number has a default value and optional bounds.\n",
    "\n",
    "There are two types of bounds: ``bounds`` and ``softbounds``.  ``bounds`` are hard bounds: the parameter must have a value within the specified range.  The default bounds are (None,None), meaning there are actually no hard bounds.  One or both bounds can be set by specifying a value (e.g. bounds=(None,10) means there is no lower bound, and an upper bound of 10). Bounds are inclusive by default, but exclusivity can be specified for each bound by setting inclusive_bounds (e.g. inclusive_bounds=(True,False) specifies an exclusive upper bound). \n",
    "\n",
    "When not being dynamically generated, bounds are checked when a Number is created or set. Using a default value outside the hard bounds, or one that is not numeric, results in an exception. When being dynamically generated, bounds are checked when the value of a Number is requested. A generated value that is not numeric, or is outside the hard bounds, results in an exception. \n",
    "\n",
    "A separate function set_in_bounds() is provided that will silently crop the given value into the legal range, for use in, for instance, a GUI. \n",
    "\n",
    "``softbounds`` are present to indicate the typical range of the parameter, but are not enforced. Setting the soft bounds allows, for instance, a GUI to know what values to display on sliders for the Number. \n",
    "\n",
    "``set_hook``???\n",
    "\n",
    "``step``???\n",
    "\n",
    "Example of creating a Number::\n",
    "\n",
    "AB = Number(default=0.5, bounds=(None,10), softbounds=(0,1), doc='Distance from A to B.')\n",
    "\n",
    "\n",
    "... TO FINISH"
   ]
  },
  {
   "cell_type": "markdown",
   "id": "15c8075b",
   "metadata": {},
   "source": [
    "## Dates\n",
    "\n",
    "Date: Date or datetime type\n",
    "CalendarDate: Date (not datetime)"
   ]
  },
  {
   "cell_type": "markdown",
   "id": "e4cb9930",
   "metadata": {},
   "source": [
    "## Tuples and Lists"
   ]
  },
  {
   "cell_type": "markdown",
   "id": "379f15d3",
   "metadata": {},
   "source": [
    "`Tuple`, `NumericTuple`, `XYCoordinates`, `Range`, `DateRange`, `CalendarDateRange`\n",
    "\n",
    "`List`, `HookList`"
   ]
  },
  {
   "cell_type": "markdown",
   "id": "a869d12a",
   "metadata": {},
   "source": [
    "## Selectors\n",
    "\n",
    "ClassSelector(SelectorBase):\n",
    "Dict(ClassSelector):\n",
    "Array(ClassSelector):\n",
    "DataFrame(ClassSelector):\n",
    "ObjectSelector(SelectorBase):\n",
    "Selector(ObjectSelector):\n",
    "Series(ClassSelector):\n",
    "FileSelector(ObjectSelector):\n",
    "ListSelector(ObjectSelector):\n",
    "MultiFileSelector(ListSelector):"
   ]
  },
  {
   "cell_type": "markdown",
   "id": "4fd9d681",
   "metadata": {},
   "source": [
    "## Paths\n",
    "\n",
    "Path(Parameter):\n",
    "Filename(Path):\n",
    "Foldername(Path):"
   ]
  },
  {
   "cell_type": "markdown",
   "id": "45b2df9a",
   "metadata": {},
   "source": [
    "## Other\n",
    "\n",
    "String(Parameter):\n",
    "Action(Parameter):\n",
    "Color(Parameter):\n",
    "Event(Boolean):"
   ]
  },
  {
   "cell_type": "markdown",
   "id": "0e3ce151",
   "metadata": {},
   "source": [
    "... TO FINISH"
   ]
  }
 ],
 "metadata": {
  "language_info": {
   "name": "python",
   "pygments_lexer": "ipython3"
  }
 },
 "nbformat": 4,
 "nbformat_minor": 5
}
