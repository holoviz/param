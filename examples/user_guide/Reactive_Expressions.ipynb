{
 "cells": [
  {
   "cell_type": "markdown",
   "id": "3ecf9ffc-96a0-4457-bc89-43cac0099e01",
   "metadata": {},
   "source": [
    "## Reactive Functions & Expressions\n",
    "\n",
    "In the [Dependencies and Watchers](Dependencies_and_Watchers.ipynb) guide we discovered how to express dependencies and write callbacks that are invoked when parameter values change. This imperative style of expressing dynamic behavior is powerful but can also end up resulting in complex code that is hard to read and maintain. Therefore Param 2.0 introduces a set of primitives that make it possible to express complex dependencies in a declarative form resulting in reactive functions and expressions that are re-evaluated automatically when required.\n",
    "\n",
    "The reactive programming model is one you might be familiar with from Excel, where formulas can reference cells or ranges and dynamically (or rather reactively) recompute when the inputs to a formula changes. In Param, Parameter objects represent the inputs or references in a formula and reactive expressions replace the concept of a formula. Additionally `param.bind` allows the creation of a reactive function with arbitrary inputs."
   ]
  },
  {
   "cell_type": "markdown",
   "id": "cbfdfa4b-a04e-465b-bf1f-2910cccd870f",
   "metadata": {},
   "source": [
    "## Reactive Functions\n",
    "\n",
    "Let us start by creating a `Parameterized` class with some parameters, here named `a` and `b`. Additionally we import `param.ipython` to allow reactive components to display correctly and re-render themselves when the inputs change."
   ]
  },
  {
   "cell_type": "code",
   "execution_count": null,
   "id": "f6bf6371-8dc8-4247-afaa-3ce872ed3371",
   "metadata": {},
   "outputs": [],
   "source": [
    "import param\n",
    "import param.ipython\n",
    "\n",
    "class Parameters(param.Parameterized):\n",
    "    \n",
    "    a = param.Number(default=1)\n",
    "\n",
    "    b = param.Number()"
   ]
  },
  {
   "cell_type": "markdown",
   "id": "1c4434e7-9b5d-4a5b-b9de-c444dae42e36",
   "metadata": {},
   "source": [
    "Now we will create a reactive function using `param.bind`. We start by declaring a function that adds two parameters and then bind parameters `a` and `b` to that function:"
   ]
  },
  {
   "cell_type": "code",
   "execution_count": null,
   "id": "c0a4c64e-ee64-405d-bace-605551b34234",
   "metadata": {},
   "outputs": [],
   "source": [
    "def add(a, b):\n",
    "    return a+b\n",
    "\n",
    "p = Parameters()\n",
    "\n",
    "reactive_add = param.bind(add, p.param.a, p.param.b)\n",
    "\n",
    "reactive_add"
   ]
  },
  {
   "cell_type": "markdown",
   "id": "9094768c-5a39-448e-9721-e6253a2a55cb",
   "metadata": {},
   "source": [
    "You can see that this reactive function renders the output and when we update one of the inputs to the function the output will reflect the updated result."
   ]
  },
  {
   "cell_type": "code",
   "execution_count": null,
   "id": "f7cd00ac-02a2-4e0c-bc98-7ce9739ed55b",
   "metadata": {},
   "outputs": [],
   "source": [
    "p.a = 5"
   ]
  },
  {
   "cell_type": "markdown",
   "id": "9a0e5412-b13f-42aa-bb21-4bf6f289510b",
   "metadata": {},
   "source": [
    "We can also call the reactive function to return the current result:"
   ]
  },
  {
   "cell_type": "code",
   "execution_count": null,
   "id": "1e026152-1772-4437-8165-dd9788edd1fb",
   "metadata": {},
   "outputs": [],
   "source": [
    "reactive_add()"
   ]
  },
  {
   "cell_type": "markdown",
   "id": "03d62757-8b3f-4d67-b1a9-5759194408a2",
   "metadata": {},
   "source": [
    "Note that if you only partially bind the required arguments the function will not be automatically evaluated:"
   ]
  },
  {
   "cell_type": "code",
   "execution_count": null,
   "id": "88870bf0-1d5e-42e9-9c59-b538070ad701",
   "metadata": {},
   "outputs": [],
   "source": [
    "param.bind(add, p.param.a)"
   ]
  },
  {
   "cell_type": "markdown",
   "id": "5a774c07-63d7-4f40-be59-ce52242bdbd6",
   "metadata": {},
   "source": [
    "## Reactive Expressions\n",
    "\n",
    "While reactive functions are very useful and allow writing arbitrary logic they still require writing the actual functions which result in more indirection and less readability. With a `reactive` expression you can wrap any object or parameter value and apply operations on it, as if you are working with the actual object. In other words, it acts as a proxy of the underlying value and supports (almost) all operations that can be performed with the original object.\n",
    "\n",
    "In order to avoid any clashes between the namespace of the reactive expression and the object it is wrapping, it has a special name space called `.rx`, that contains special methods to work with the expression.  \n",
    "\n",
    "### Using Parameters\n",
    "\n",
    "As an example we can create reactive proxies for the `a` and `b` parameters and add them together:"
   ]
  },
  {
   "cell_type": "code",
   "execution_count": null,
   "id": "243afd62-2f10-4dd3-a264-4d9a895c3088",
   "metadata": {},
   "outputs": [],
   "source": [
    "p = Parameters()\n",
    "\n",
    "expr = p.param.a.reactive() + p.param.b.reactive() + 3\n",
    "\n",
    "expr"
   ]
  },
  {
   "cell_type": "markdown",
   "id": "f62fe083-50c9-4739-aaec-81fb31f98241",
   "metadata": {},
   "source": [
    "The resulting reactive expression now reflects the result of this operation and will update automatically when one of the inputs to the operation changes, e.g. if we update parameter `a`:"
   ]
  },
  {
   "cell_type": "code",
   "execution_count": null,
   "id": "f71b9341-31bb-437f-90ab-3fb5da607f0a",
   "metadata": {},
   "outputs": [],
   "source": [
    "p.a = 5"
   ]
  },
  {
   "cell_type": "markdown",
   "id": "a48adb7e-c340-49e1-bec1-30ca6cc2eca2",
   "metadata": {},
   "source": [
    "### Resolving the expression\n",
    "\n",
    "To resolve the current value of the expression we can call `.rx.resolve()`:"
   ]
  },
  {
   "cell_type": "code",
   "execution_count": null,
   "id": "4391692a-e871-4e30-a29d-1eac06a7fc74",
   "metadata": {},
   "outputs": [],
   "source": [
    "expr.rx.resolve()"
   ]
  },
  {
   "cell_type": "markdown",
   "id": "824dc59e-aea0-404e-b3c3-be134dffa8e0",
   "metadata": {},
   "source": [
    "### Using literal objects as inputs\n",
    "\n",
    "Note that the input to a reactive expression can be anything, e.g. we can create a `reactive` object from a static, literal value, such as a string:"
   ]
  },
  {
   "cell_type": "code",
   "execution_count": null,
   "id": "9b061295-a28c-4e13-9b8c-54f9070a0a4a",
   "metadata": {},
   "outputs": [],
   "source": [
    "string_template = param.reactive('Hello {name}!')\n",
    "\n",
    "string_template"
   ]
  },
  {
   "cell_type": "markdown",
   "id": "05af1fa3-bcea-4c55-809f-beb8e4049e90",
   "metadata": {},
   "source": [
    "The `reactive` object now acts like a string so we can use the `.format` method to fill in the `string_template`:"
   ]
  },
  {
   "cell_type": "code",
   "execution_count": null,
   "id": "56d8047b-b737-4b03-86a1-24b5b4d49bd3",
   "metadata": {},
   "outputs": [],
   "source": [
    "name = param.reactive('world')\n",
    "\n",
    "str_expr = string_template.format(name=name)\n",
    "\n",
    "str_expr"
   ]
  },
  {
   "cell_type": "markdown",
   "id": "3218ab95-0261-4cd9-a4fe-6f552baafdb3",
   "metadata": {},
   "source": [
    "### Setting the input value\n",
    "\n",
    "To update the input to a `reactive` object we can use the `.rx.set()` method:"
   ]
  },
  {
   "cell_type": "code",
   "execution_count": null,
   "id": "d4842f2f-8d17-41eb-96f0-668d0ee545d1",
   "metadata": {},
   "outputs": [],
   "source": [
    "name.rx.set('there')\n",
    "\n",
    "str_expr.rx.resolve()"
   ]
  },
  {
   "cell_type": "markdown",
   "id": "227a230b-98b2-4097-8a6d-798ddb63b74a",
   "metadata": {},
   "source": [
    "### Limitations\n",
    "\n",
    "A `reactive` proxy behaves like the underlying object it is wrapping, but only to the extent that Python allows. Certain operations cannot be implemented, e.g. Python will not allow the `len` operation to return anything but a integer and the `is` statement always checks the immediate identity of its two operands. Therefore `reactive` implements certain operations as special methods that exist on the `.rx` namespace, these include:\n",
    "\n",
    "- `.bool()`: Tests the truthiness of the object\n",
    "- `.is_()`: Tests the object identity against another object.\n",
    "- `.is_not()`: Tests the object identity against another object.\n",
    "- `.len()`: The length of the expression\n",
    "- `.pipe()`: Allows applying an arbitrary function with static or reactive arguments to the object.\n",
    "- `.when()`: Generates a new expression that only updates when the provided dependency updates."
   ]
  }
 ],
 "metadata": {
  "language_info": {
   "name": "python",
   "pygments_lexer": "ipython3"
  }
 },
 "nbformat": 4,
 "nbformat_minor": 5
}
